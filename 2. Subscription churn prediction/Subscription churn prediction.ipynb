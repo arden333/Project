{
 "cells": [
  {
   "cell_type": "code",
   "execution_count": 71,
   "metadata": {},
   "outputs": [],
   "source": [
    "# 라이브러리\n",
    "import pandas as pd\n",
    "import numpy as np\n",
    "import matplotlib.pyplot as plt\n",
    "import seaborn as sns\n",
    "import plotly.express as px\n",
    "import plotly.graph_objects as go\n",
    "\n",
    "import warnings\n",
    "warnings.filterwarnings('ignore')"
   ]
  },
  {
   "cell_type": "code",
   "execution_count": 72,
   "metadata": {},
   "outputs": [],
   "source": [
    "# 그래프 설정\n",
    "# 한글폰트 설정\n",
    "plt.rcParams['font.family'] = 'NanumBarunGothic'\n",
    "sns.set(font='NanumBarunGothic')\n",
    "\n",
    "# 그래프 설정\n",
    "sns.set_style('white')\n",
    "\n",
    "# 팔레트 설정\n",
    "oryel = ['#E0B03C','#F1BA75','#F69960','#F97857','#F25958']\n",
    "sns.set_palette(sns.color_palette(oryel))"
   ]
  },
  {
   "cell_type": "code",
   "execution_count": 73,
   "metadata": {},
   "outputs": [
    {
     "name": "stdout",
     "output_type": "stream",
     "text": [
      "case data: (330512, 5)\n",
      "customer data: (508932, 3)\n",
      "customer-product data: (508932, 4)\n",
      "product data: (2, 3)\n"
     ]
    }
   ],
   "source": [
    "df_case = pd.read_csv('customer_cases.csv', index_col=0)\n",
    "df_cst = pd.read_csv('customer_info.csv', index_col=0)\n",
    "df_prdt = pd.read_csv('customer_product.csv', index_col=0)\n",
    "df_prdt_info = pd.read_csv('product_info.csv', index_col=0)\n",
    "print('case data:', df_case.shape)\n",
    "print('customer data:', df_cst.shape)\n",
    "print('customer-product data:', df_prdt.shape)\n",
    "print('product data:', df_prdt_info.shape)"
   ]
  },
  {
   "cell_type": "code",
   "execution_count": 74,
   "metadata": {},
   "outputs": [
    {
     "data": {
      "text/html": [
       "<div>\n",
       "<style scoped>\n",
       "    .dataframe tbody tr th:only-of-type {\n",
       "        vertical-align: middle;\n",
       "    }\n",
       "\n",
       "    .dataframe tbody tr th {\n",
       "        vertical-align: top;\n",
       "    }\n",
       "\n",
       "    .dataframe thead th {\n",
       "        text-align: right;\n",
       "    }\n",
       "</style>\n",
       "<table border=\"1\" class=\"dataframe\">\n",
       "  <thead>\n",
       "    <tr style=\"text-align: right;\">\n",
       "      <th></th>\n",
       "      <th>case_id</th>\n",
       "      <th>date_time</th>\n",
       "      <th>customer_id</th>\n",
       "      <th>channel</th>\n",
       "      <th>reason</th>\n",
       "    </tr>\n",
       "  </thead>\n",
       "  <tbody>\n",
       "    <tr>\n",
       "      <th>30</th>\n",
       "      <td>CC130</td>\n",
       "      <td>2017-01-02 11:45:47</td>\n",
       "      <td>C2477</td>\n",
       "      <td>phone</td>\n",
       "      <td>signup</td>\n",
       "    </tr>\n",
       "    <tr>\n",
       "      <th>111</th>\n",
       "      <td>CC211</td>\n",
       "      <td>2017-01-03 14:30:38</td>\n",
       "      <td>C2477</td>\n",
       "      <td>phone</td>\n",
       "      <td>support</td>\n",
       "    </tr>\n",
       "  </tbody>\n",
       "</table>\n",
       "</div>"
      ],
      "text/plain": [
       "    case_id            date_time customer_id channel   reason\n",
       "30    CC130  2017-01-02 11:45:47       C2477   phone   signup\n",
       "111   CC211  2017-01-03 14:30:38       C2477   phone  support"
      ]
     },
     "execution_count": 74,
     "metadata": {},
     "output_type": "execute_result"
    }
   ],
   "source": [
    "df_case[df_case['customer_id']=='C2477']"
   ]
  },
  {
   "cell_type": "markdown",
   "metadata": {},
   "source": [
    "customer_id가 중복인 경우는 구독신청 후 서비스 이용 관련하여 연락이 온 경우임"
   ]
  },
  {
   "cell_type": "code",
   "execution_count": 75,
   "metadata": {},
   "outputs": [
    {
     "data": {
      "text/plain": [
       "0"
      ]
     },
     "execution_count": 75,
     "metadata": {},
     "output_type": "execute_result"
    }
   ],
   "source": [
    "# 중복값들만 추출\n",
    "cst_dup = df_case[df_case['customer_id'].duplicated()]\n",
    "# customer_id가 중복된 경우는 모두 support\n",
    "# 즉, 기존 이용객의 이용 관련 전화\n",
    "(cst_dup['reason']=='signup').sum()"
   ]
  },
  {
   "cell_type": "code",
   "execution_count": 76,
   "metadata": {},
   "outputs": [
    {
     "name": "stdout",
     "output_type": "stream",
     "text": [
      "고객당 support 최대 이용건수 4\n",
      "고객당 support 평균 이용건수 1.119137734996807\n"
     ]
    }
   ],
   "source": [
    "# customer_id 중복된 고객 이용행태\n",
    "a = cst_dup.groupby('customer_id').count()\n",
    "print('고객당 support 최대 이용건수', a['case_id'].max())\n",
    "print('고객당 support 평균 이용건수', a['case_id'].mean())"
   ]
  },
  {
   "cell_type": "code",
   "execution_count": 77,
   "metadata": {},
   "outputs": [
    {
     "data": {
      "text/plain": [
       "(258660, 5)"
      ]
     },
     "execution_count": 77,
     "metadata": {},
     "output_type": "execute_result"
    }
   ],
   "source": [
    "# suppot 행 제거\n",
    "df_sign = df_case.drop(cst_dup.index)\n",
    "df_sign.shape"
   ]
  },
  {
   "cell_type": "markdown",
   "metadata": {},
   "source": [
    "### 데이터셋 합치기"
   ]
  },
  {
   "cell_type": "code",
   "execution_count": 78,
   "metadata": {},
   "outputs": [
    {
     "name": "stdout",
     "output_type": "stream",
     "text": [
      "0\n",
      "0\n"
     ]
    }
   ],
   "source": [
    "# 합칠 데이터셋에 중복값 있는지 확인\n",
    "print(df_cst.duplicated().sum())\n",
    "print(df_prdt.duplicated().sum())"
   ]
  },
  {
   "cell_type": "code",
   "execution_count": 79,
   "metadata": {},
   "outputs": [
    {
     "name": "stdout",
     "output_type": "stream",
     "text": [
      "(258660, 10)\n"
     ]
    },
    {
     "data": {
      "text/html": [
       "<div>\n",
       "<style scoped>\n",
       "    .dataframe tbody tr th:only-of-type {\n",
       "        vertical-align: middle;\n",
       "    }\n",
       "\n",
       "    .dataframe tbody tr th {\n",
       "        vertical-align: top;\n",
       "    }\n",
       "\n",
       "    .dataframe thead th {\n",
       "        text-align: right;\n",
       "    }\n",
       "</style>\n",
       "<table border=\"1\" class=\"dataframe\">\n",
       "  <thead>\n",
       "    <tr style=\"text-align: right;\">\n",
       "      <th></th>\n",
       "      <th>case_id</th>\n",
       "      <th>date_time</th>\n",
       "      <th>customer_id</th>\n",
       "      <th>channel</th>\n",
       "      <th>reason</th>\n",
       "      <th>age</th>\n",
       "      <th>gender</th>\n",
       "      <th>product</th>\n",
       "      <th>signup_date_time</th>\n",
       "      <th>cancel_date_time</th>\n",
       "    </tr>\n",
       "  </thead>\n",
       "  <tbody>\n",
       "    <tr>\n",
       "      <th>0</th>\n",
       "      <td>CC101</td>\n",
       "      <td>2017-01-01 10:32:03</td>\n",
       "      <td>C2448</td>\n",
       "      <td>phone</td>\n",
       "      <td>signup</td>\n",
       "      <td>76</td>\n",
       "      <td>female</td>\n",
       "      <td>prd_1</td>\n",
       "      <td>2017-01-01 10:35:09</td>\n",
       "      <td>NaN</td>\n",
       "    </tr>\n",
       "    <tr>\n",
       "      <th>1</th>\n",
       "      <td>CC102</td>\n",
       "      <td>2017-01-01 11:35:47</td>\n",
       "      <td>C2449</td>\n",
       "      <td>phone</td>\n",
       "      <td>signup</td>\n",
       "      <td>61</td>\n",
       "      <td>male</td>\n",
       "      <td>prd_1</td>\n",
       "      <td>2017-01-01 11:39:29</td>\n",
       "      <td>2021-09-05 10:00:02</td>\n",
       "    </tr>\n",
       "    <tr>\n",
       "      <th>2</th>\n",
       "      <td>CC103</td>\n",
       "      <td>2017-01-01 11:37:09</td>\n",
       "      <td>C2450</td>\n",
       "      <td>phone</td>\n",
       "      <td>signup</td>\n",
       "      <td>58</td>\n",
       "      <td>female</td>\n",
       "      <td>prd_1</td>\n",
       "      <td>2017-01-01 11:42:00</td>\n",
       "      <td>2019-01-13 16:24:55</td>\n",
       "    </tr>\n",
       "    <tr>\n",
       "      <th>3</th>\n",
       "      <td>CC104</td>\n",
       "      <td>2017-01-01 13:28:14</td>\n",
       "      <td>C2451</td>\n",
       "      <td>phone</td>\n",
       "      <td>signup</td>\n",
       "      <td>62</td>\n",
       "      <td>female</td>\n",
       "      <td>prd_2</td>\n",
       "      <td>2017-01-01 13:32:08</td>\n",
       "      <td>NaN</td>\n",
       "    </tr>\n",
       "    <tr>\n",
       "      <th>4</th>\n",
       "      <td>CC105</td>\n",
       "      <td>2017-01-01 13:52:22</td>\n",
       "      <td>C2452</td>\n",
       "      <td>phone</td>\n",
       "      <td>signup</td>\n",
       "      <td>71</td>\n",
       "      <td>male</td>\n",
       "      <td>prd_1</td>\n",
       "      <td>2017-01-01 13:57:30</td>\n",
       "      <td>2021-06-28 18:06:01</td>\n",
       "    </tr>\n",
       "  </tbody>\n",
       "</table>\n",
       "</div>"
      ],
      "text/plain": [
       "  case_id            date_time customer_id channel  reason  age  gender  \\\n",
       "0   CC101  2017-01-01 10:32:03       C2448   phone  signup   76  female   \n",
       "1   CC102  2017-01-01 11:35:47       C2449   phone  signup   61    male   \n",
       "2   CC103  2017-01-01 11:37:09       C2450   phone  signup   58  female   \n",
       "3   CC104  2017-01-01 13:28:14       C2451   phone  signup   62  female   \n",
       "4   CC105  2017-01-01 13:52:22       C2452   phone  signup   71    male   \n",
       "\n",
       "  product     signup_date_time     cancel_date_time  \n",
       "0   prd_1  2017-01-01 10:35:09                  NaN  \n",
       "1   prd_1  2017-01-01 11:39:29  2021-09-05 10:00:02  \n",
       "2   prd_1  2017-01-01 11:42:00  2019-01-13 16:24:55  \n",
       "3   prd_2  2017-01-01 13:32:08                  NaN  \n",
       "4   prd_1  2017-01-01 13:57:30  2021-06-28 18:06:01  "
      ]
     },
     "execution_count": 79,
     "metadata": {},
     "output_type": "execute_result"
    }
   ],
   "source": [
    "# 데이터셋 합치기\n",
    "df = pd.merge(df_sign, df_cst, how='left', on='customer_id')\n",
    "df = pd.merge(df, df_prdt, how='left', on='customer_id')\n",
    "print(df.shape)\n",
    "df.head()"
   ]
  },
  {
   "cell_type": "markdown",
   "metadata": {},
   "source": [
    "### EDA / Feature Engineering"
   ]
  },
  {
   "cell_type": "code",
   "execution_count": 80,
   "metadata": {},
   "outputs": [
    {
     "name": "stdout",
     "output_type": "stream",
     "text": [
      "<class 'pandas.core.frame.DataFrame'>\n",
      "Int64Index: 258660 entries, 0 to 258659\n",
      "Data columns (total 10 columns):\n",
      " #   Column            Non-Null Count   Dtype \n",
      "---  ------            --------------   ----- \n",
      " 0   case_id           258660 non-null  object\n",
      " 1   date_time         258660 non-null  object\n",
      " 2   customer_id       258660 non-null  object\n",
      " 3   channel           258660 non-null  object\n",
      " 4   reason            258660 non-null  object\n",
      " 5   age               258660 non-null  int64 \n",
      " 6   gender            258660 non-null  object\n",
      " 7   product           258660 non-null  object\n",
      " 8   signup_date_time  258660 non-null  object\n",
      " 9   cancel_date_time  59578 non-null   object\n",
      "dtypes: int64(1), object(9)\n",
      "memory usage: 21.7+ MB\n"
     ]
    }
   ],
   "source": [
    "df.info()"
   ]
  },
  {
   "cell_type": "code",
   "execution_count": 81,
   "metadata": {},
   "outputs": [
    {
     "data": {
      "text/plain": [
       "case_id                  0\n",
       "date_time                0\n",
       "customer_id              0\n",
       "channel                  0\n",
       "reason                   0\n",
       "age                      0\n",
       "gender                   0\n",
       "product                  0\n",
       "signup_date_time         0\n",
       "cancel_date_time    199082\n",
       "dtype: int64"
      ]
     },
     "execution_count": 81,
     "metadata": {},
     "output_type": "execute_result"
    }
   ],
   "source": [
    "df.isnull().sum()"
   ]
  },
  {
   "cell_type": "markdown",
   "metadata": {},
   "source": [
    "cancel_date_time 외에는 결측치 없음. 구독취소를 하지 않은 경우 cancel_date_time이 결측치로 나타남.\n",
    "즉 cancel_date_time의 결측치는 현재 구독중인 이용자를 의미"
   ]
  },
  {
   "cell_type": "markdown",
   "metadata": {},
   "source": [
    "컬럼 정리\n",
    "1. case_id, customer_id   \n",
    "   - 모델 학습 시 제거할 것, 수치만 남겨서 int 형변환 \n",
    "2. date_time : case 일자이므로 제거\n",
    "3. reason : signup case만 추출했으므로 제거\n",
    "4. product : prd_1은 'annual', prd_2는 'monthly'로 변경\n",
    "5. signup/cancel_date_time\n",
    "   - date까지만 사용   \n",
    "   - cancel_date_time : 결측치 0으로 채우기\n",
    "   - cancel-signup해서 구독기간 특성 만들 것   \n",
    "6. age : 연령대로 구분"
   ]
  },
  {
   "cell_type": "code",
   "execution_count": 82,
   "metadata": {},
   "outputs": [
    {
     "data": {
      "text/html": [
       "<div>\n",
       "<style scoped>\n",
       "    .dataframe tbody tr th:only-of-type {\n",
       "        vertical-align: middle;\n",
       "    }\n",
       "\n",
       "    .dataframe tbody tr th {\n",
       "        vertical-align: top;\n",
       "    }\n",
       "\n",
       "    .dataframe thead th {\n",
       "        text-align: right;\n",
       "    }\n",
       "</style>\n",
       "<table border=\"1\" class=\"dataframe\">\n",
       "  <thead>\n",
       "    <tr style=\"text-align: right;\">\n",
       "      <th></th>\n",
       "      <th>id</th>\n",
       "      <th>age_gr</th>\n",
       "      <th>gender</th>\n",
       "      <th>product</th>\n",
       "      <th>channel</th>\n",
       "      <th>signup_date_time</th>\n",
       "      <th>cancel_date_time</th>\n",
       "    </tr>\n",
       "  </thead>\n",
       "  <tbody>\n",
       "    <tr>\n",
       "      <th>0</th>\n",
       "      <td>2448</td>\n",
       "      <td>70</td>\n",
       "      <td>female</td>\n",
       "      <td>annual</td>\n",
       "      <td>phone</td>\n",
       "      <td>2017-01-01 10:35:09</td>\n",
       "      <td>NaN</td>\n",
       "    </tr>\n",
       "    <tr>\n",
       "      <th>1</th>\n",
       "      <td>2449</td>\n",
       "      <td>60</td>\n",
       "      <td>male</td>\n",
       "      <td>annual</td>\n",
       "      <td>phone</td>\n",
       "      <td>2017-01-01 11:39:29</td>\n",
       "      <td>2021-09-05 10:00:02</td>\n",
       "    </tr>\n",
       "    <tr>\n",
       "      <th>2</th>\n",
       "      <td>2450</td>\n",
       "      <td>50</td>\n",
       "      <td>female</td>\n",
       "      <td>annual</td>\n",
       "      <td>phone</td>\n",
       "      <td>2017-01-01 11:42:00</td>\n",
       "      <td>2019-01-13 16:24:55</td>\n",
       "    </tr>\n",
       "    <tr>\n",
       "      <th>3</th>\n",
       "      <td>2451</td>\n",
       "      <td>60</td>\n",
       "      <td>female</td>\n",
       "      <td>monthly</td>\n",
       "      <td>phone</td>\n",
       "      <td>2017-01-01 13:32:08</td>\n",
       "      <td>NaN</td>\n",
       "    </tr>\n",
       "    <tr>\n",
       "      <th>4</th>\n",
       "      <td>2452</td>\n",
       "      <td>70</td>\n",
       "      <td>male</td>\n",
       "      <td>annual</td>\n",
       "      <td>phone</td>\n",
       "      <td>2017-01-01 13:57:30</td>\n",
       "      <td>2021-06-28 18:06:01</td>\n",
       "    </tr>\n",
       "  </tbody>\n",
       "</table>\n",
       "</div>"
      ],
      "text/plain": [
       "     id age_gr  gender  product channel     signup_date_time  \\\n",
       "0  2448     70  female   annual   phone  2017-01-01 10:35:09   \n",
       "1  2449     60    male   annual   phone  2017-01-01 11:39:29   \n",
       "2  2450     50  female   annual   phone  2017-01-01 11:42:00   \n",
       "3  2451     60  female  monthly   phone  2017-01-01 13:32:08   \n",
       "4  2452     70    male   annual   phone  2017-01-01 13:57:30   \n",
       "\n",
       "      cancel_date_time  \n",
       "0                  NaN  \n",
       "1  2021-09-05 10:00:02  \n",
       "2  2019-01-13 16:24:55  \n",
       "3                  NaN  \n",
       "4  2021-06-28 18:06:01  "
      ]
     },
     "execution_count": 82,
     "metadata": {},
     "output_type": "execute_result"
    }
   ],
   "source": [
    "# feature engineering\n",
    "\n",
    "# customer_id int형변환\n",
    "df['id'] = df['customer_id'].str.extract('(\\d+)')\n",
    "df['id'].astype(int)\n",
    "\n",
    "# prouct명으로 변경\n",
    "df['product'] = df['product'].replace({'prd_1':'annual', 'prd_2':'monthly'})\n",
    "\n",
    "# age : min=22, max=78\n",
    "# 20대~70대로 구분\n",
    "def age_group(age):\n",
    "    age = (age//10)*10 #10으로 나눈 몫*10\n",
    "    return age\n",
    "\n",
    "age_gr = df.age.apply(age_group)\n",
    "age_gr = age_gr.astype('category')\n",
    "\n",
    "df.insert(2, 'age_gr', age_gr)\n",
    "\n",
    "# 불필요한 특성 제거\n",
    "dels = ['case_id', 'date_time', 'reason', 'customer_id', 'age']\n",
    "df.drop(columns=dels, inplace=True)\n",
    "\n",
    "# 컬럼 순서 변경\n",
    "df = df[['id','age_gr','gender','product','channel','signup_date_time', 'cancel_date_time']]\n",
    "\n",
    "df.head()"
   ]
  },
  {
   "cell_type": "code",
   "execution_count": 83,
   "metadata": {},
   "outputs": [
    {
     "data": {
      "text/html": [
       "<div>\n",
       "<style scoped>\n",
       "    .dataframe tbody tr th:only-of-type {\n",
       "        vertical-align: middle;\n",
       "    }\n",
       "\n",
       "    .dataframe tbody tr th {\n",
       "        vertical-align: top;\n",
       "    }\n",
       "\n",
       "    .dataframe thead th {\n",
       "        text-align: right;\n",
       "    }\n",
       "</style>\n",
       "<table border=\"1\" class=\"dataframe\">\n",
       "  <thead>\n",
       "    <tr style=\"text-align: right;\">\n",
       "      <th></th>\n",
       "      <th>id</th>\n",
       "      <th>age_gr</th>\n",
       "      <th>gender</th>\n",
       "      <th>product</th>\n",
       "      <th>channel</th>\n",
       "      <th>signup_date_time</th>\n",
       "      <th>cancel_date_time</th>\n",
       "      <th>cancel</th>\n",
       "    </tr>\n",
       "  </thead>\n",
       "  <tbody>\n",
       "    <tr>\n",
       "      <th>0</th>\n",
       "      <td>2448</td>\n",
       "      <td>70</td>\n",
       "      <td>female</td>\n",
       "      <td>annual</td>\n",
       "      <td>phone</td>\n",
       "      <td>2017-01-01 10:35:09</td>\n",
       "      <td>0</td>\n",
       "      <td>0</td>\n",
       "    </tr>\n",
       "    <tr>\n",
       "      <th>1</th>\n",
       "      <td>2449</td>\n",
       "      <td>60</td>\n",
       "      <td>male</td>\n",
       "      <td>annual</td>\n",
       "      <td>phone</td>\n",
       "      <td>2017-01-01 11:39:29</td>\n",
       "      <td>2021-09-05 10:00:02</td>\n",
       "      <td>1</td>\n",
       "    </tr>\n",
       "    <tr>\n",
       "      <th>2</th>\n",
       "      <td>2450</td>\n",
       "      <td>50</td>\n",
       "      <td>female</td>\n",
       "      <td>annual</td>\n",
       "      <td>phone</td>\n",
       "      <td>2017-01-01 11:42:00</td>\n",
       "      <td>2019-01-13 16:24:55</td>\n",
       "      <td>1</td>\n",
       "    </tr>\n",
       "    <tr>\n",
       "      <th>3</th>\n",
       "      <td>2451</td>\n",
       "      <td>60</td>\n",
       "      <td>female</td>\n",
       "      <td>monthly</td>\n",
       "      <td>phone</td>\n",
       "      <td>2017-01-01 13:32:08</td>\n",
       "      <td>0</td>\n",
       "      <td>0</td>\n",
       "    </tr>\n",
       "    <tr>\n",
       "      <th>4</th>\n",
       "      <td>2452</td>\n",
       "      <td>70</td>\n",
       "      <td>male</td>\n",
       "      <td>annual</td>\n",
       "      <td>phone</td>\n",
       "      <td>2017-01-01 13:57:30</td>\n",
       "      <td>2021-06-28 18:06:01</td>\n",
       "      <td>1</td>\n",
       "    </tr>\n",
       "  </tbody>\n",
       "</table>\n",
       "</div>"
      ],
      "text/plain": [
       "     id age_gr  gender  product channel     signup_date_time  \\\n",
       "0  2448     70  female   annual   phone  2017-01-01 10:35:09   \n",
       "1  2449     60    male   annual   phone  2017-01-01 11:39:29   \n",
       "2  2450     50  female   annual   phone  2017-01-01 11:42:00   \n",
       "3  2451     60  female  monthly   phone  2017-01-01 13:32:08   \n",
       "4  2452     70    male   annual   phone  2017-01-01 13:57:30   \n",
       "\n",
       "      cancel_date_time  cancel  \n",
       "0                    0       0  \n",
       "1  2021-09-05 10:00:02       1  \n",
       "2  2019-01-13 16:24:55       1  \n",
       "3                    0       0  \n",
       "4  2021-06-28 18:06:01       1  "
      ]
     },
     "execution_count": 83,
     "metadata": {},
     "output_type": "execute_result"
    }
   ],
   "source": [
    "# 구독 취소 고객 여부\n",
    "# 결측치를 0으로 채운 후 구독여부 구분\n",
    "df['cancel_date_time']=df['cancel_date_time'].fillna(0)\n",
    "\n",
    "lst = []\n",
    "for i in df.index:\n",
    "    if df.loc[i, 'cancel_date_time'] == 0:\n",
    "        lst.append(0) # 취소 안한 사람(구독 유지)\n",
    "    else:\n",
    "        lst.append(1) # 취소한 사람(취소 = 1)\n",
    "df['cancel'] = lst\n",
    "df.head()"
   ]
  },
  {
   "cell_type": "code",
   "execution_count": 84,
   "metadata": {},
   "outputs": [
    {
     "data": {
      "text/html": [
       "<div>\n",
       "<style scoped>\n",
       "    .dataframe tbody tr th:only-of-type {\n",
       "        vertical-align: middle;\n",
       "    }\n",
       "\n",
       "    .dataframe tbody tr th {\n",
       "        vertical-align: top;\n",
       "    }\n",
       "\n",
       "    .dataframe thead th {\n",
       "        text-align: right;\n",
       "    }\n",
       "</style>\n",
       "<table border=\"1\" class=\"dataframe\">\n",
       "  <thead>\n",
       "    <tr style=\"text-align: right;\">\n",
       "      <th></th>\n",
       "      <th>id</th>\n",
       "      <th>age_gr</th>\n",
       "      <th>gender</th>\n",
       "      <th>product</th>\n",
       "      <th>channel</th>\n",
       "      <th>signup_date_time</th>\n",
       "      <th>cancel_date_time</th>\n",
       "      <th>cancel</th>\n",
       "      <th>max_date</th>\n",
       "      <th>s_date</th>\n",
       "      <th>c_date</th>\n",
       "      <th>period_m</th>\n",
       "      <th>s_year</th>\n",
       "      <th>c_year</th>\n",
       "    </tr>\n",
       "  </thead>\n",
       "  <tbody>\n",
       "    <tr>\n",
       "      <th>0</th>\n",
       "      <td>2448</td>\n",
       "      <td>70</td>\n",
       "      <td>female</td>\n",
       "      <td>annual</td>\n",
       "      <td>phone</td>\n",
       "      <td>2017-01-01 10:35:09</td>\n",
       "      <td>0</td>\n",
       "      <td>0</td>\n",
       "      <td>2021-12-31</td>\n",
       "      <td>2017-01-01</td>\n",
       "      <td>2021-12-31</td>\n",
       "      <td>60.0</td>\n",
       "      <td>2017</td>\n",
       "      <td>2021</td>\n",
       "    </tr>\n",
       "    <tr>\n",
       "      <th>1</th>\n",
       "      <td>2449</td>\n",
       "      <td>60</td>\n",
       "      <td>male</td>\n",
       "      <td>annual</td>\n",
       "      <td>phone</td>\n",
       "      <td>2017-01-01 11:39:29</td>\n",
       "      <td>2021-09-05 10:00:02</td>\n",
       "      <td>1</td>\n",
       "      <td>2021-09-05 10:00:02</td>\n",
       "      <td>2017-01-01</td>\n",
       "      <td>2021-09-05</td>\n",
       "      <td>56.2</td>\n",
       "      <td>2017</td>\n",
       "      <td>2021</td>\n",
       "    </tr>\n",
       "    <tr>\n",
       "      <th>2</th>\n",
       "      <td>2450</td>\n",
       "      <td>50</td>\n",
       "      <td>female</td>\n",
       "      <td>annual</td>\n",
       "      <td>phone</td>\n",
       "      <td>2017-01-01 11:42:00</td>\n",
       "      <td>2019-01-13 16:24:55</td>\n",
       "      <td>1</td>\n",
       "      <td>2019-01-13 16:24:55</td>\n",
       "      <td>2017-01-01</td>\n",
       "      <td>2019-01-13</td>\n",
       "      <td>24.4</td>\n",
       "      <td>2017</td>\n",
       "      <td>2019</td>\n",
       "    </tr>\n",
       "    <tr>\n",
       "      <th>3</th>\n",
       "      <td>2451</td>\n",
       "      <td>60</td>\n",
       "      <td>female</td>\n",
       "      <td>monthly</td>\n",
       "      <td>phone</td>\n",
       "      <td>2017-01-01 13:32:08</td>\n",
       "      <td>0</td>\n",
       "      <td>0</td>\n",
       "      <td>2021-12-31</td>\n",
       "      <td>2017-01-01</td>\n",
       "      <td>2021-12-31</td>\n",
       "      <td>60.0</td>\n",
       "      <td>2017</td>\n",
       "      <td>2021</td>\n",
       "    </tr>\n",
       "    <tr>\n",
       "      <th>4</th>\n",
       "      <td>2452</td>\n",
       "      <td>70</td>\n",
       "      <td>male</td>\n",
       "      <td>annual</td>\n",
       "      <td>phone</td>\n",
       "      <td>2017-01-01 13:57:30</td>\n",
       "      <td>2021-06-28 18:06:01</td>\n",
       "      <td>1</td>\n",
       "      <td>2021-06-28 18:06:01</td>\n",
       "      <td>2017-01-01</td>\n",
       "      <td>2021-06-28</td>\n",
       "      <td>53.9</td>\n",
       "      <td>2017</td>\n",
       "      <td>2021</td>\n",
       "    </tr>\n",
       "  </tbody>\n",
       "</table>\n",
       "</div>"
      ],
      "text/plain": [
       "     id age_gr  gender  product channel     signup_date_time  \\\n",
       "0  2448     70  female   annual   phone  2017-01-01 10:35:09   \n",
       "1  2449     60    male   annual   phone  2017-01-01 11:39:29   \n",
       "2  2450     50  female   annual   phone  2017-01-01 11:42:00   \n",
       "3  2451     60  female  monthly   phone  2017-01-01 13:32:08   \n",
       "4  2452     70    male   annual   phone  2017-01-01 13:57:30   \n",
       "\n",
       "      cancel_date_time  cancel             max_date     s_date     c_date  \\\n",
       "0                    0       0           2021-12-31 2017-01-01 2021-12-31   \n",
       "1  2021-09-05 10:00:02       1  2021-09-05 10:00:02 2017-01-01 2021-09-05   \n",
       "2  2019-01-13 16:24:55       1  2019-01-13 16:24:55 2017-01-01 2019-01-13   \n",
       "3                    0       0           2021-12-31 2017-01-01 2021-12-31   \n",
       "4  2021-06-28 18:06:01       1  2021-06-28 18:06:01 2017-01-01 2021-06-28   \n",
       "\n",
       "   period_m  s_year  c_year  \n",
       "0      60.0    2017    2021  \n",
       "1      56.2    2017    2021  \n",
       "2      24.4    2017    2019  \n",
       "3      60.0    2017    2021  \n",
       "4      53.9    2017    2021  "
      ]
     },
     "execution_count": 84,
     "metadata": {},
     "output_type": "execute_result"
    }
   ],
   "source": [
    "# 구독기간 계산 위한 컬럼 생성\n",
    "df['max_date'] = df['cancel_date_time']\n",
    "df['max_date']=df['max_date'].replace(0,'2021-12-31')\n",
    "\n",
    "# date와 time  분리\n",
    "df['s_date'],df['s_time'] = df['signup_date_time'].str.split(' ',1).str\n",
    "df['c_date'],df['c_time'] = df['max_date'].str.split(' ',1).str\n",
    "df.drop(columns=['s_time','c_time'], axis=1, inplace=True)\n",
    "\n",
    "# 날짜 계산 위해 datetime 형변환\n",
    "df['s_date'] = pd.to_datetime(df['s_date'], format='%Y-%m-%d')\n",
    "df['c_date'] = pd.to_datetime(df['c_date'], format='%Y-%m-%d')\n",
    "\n",
    "# 구독기간 계산\n",
    "df['period'] = df['c_date'] - df['s_date']\n",
    "df['period_m'] = round(df['period'].dt.days / 30.4,1) # timedelta를 int로 변환(일 단위) 후 개월 수 환산\n",
    "df.drop('period',axis=1, inplace=True)\n",
    "\n",
    "# 연도 분리\n",
    "df['s_year'] = df['s_date'].dt.year.astype(int)\n",
    "df['c_year'] = df['c_date'].dt.year.astype(int)\n",
    "df.head()"
   ]
  },
  {
   "cell_type": "code",
   "execution_count": 85,
   "metadata": {},
   "outputs": [
    {
     "name": "stdout",
     "output_type": "stream",
     "text": [
      "<class 'pandas.core.frame.DataFrame'>\n",
      "Int64Index: 258660 entries, 0 to 258659\n",
      "Data columns (total 14 columns):\n",
      " #   Column            Non-Null Count   Dtype         \n",
      "---  ------            --------------   -----         \n",
      " 0   id                258660 non-null  object        \n",
      " 1   age_gr            258660 non-null  category      \n",
      " 2   gender            258660 non-null  object        \n",
      " 3   product           258660 non-null  object        \n",
      " 4   channel           258660 non-null  object        \n",
      " 5   signup_date_time  258660 non-null  object        \n",
      " 6   cancel_date_time  258660 non-null  object        \n",
      " 7   cancel            258660 non-null  int64         \n",
      " 8   max_date          258660 non-null  object        \n",
      " 9   s_date            258660 non-null  datetime64[ns]\n",
      " 10  c_date            258660 non-null  datetime64[ns]\n",
      " 11  period_m          258660 non-null  float64       \n",
      " 12  s_year            258660 non-null  int32         \n",
      " 13  c_year            258660 non-null  int32         \n",
      "dtypes: category(1), datetime64[ns](2), float64(1), int32(2), int64(1), object(7)\n",
      "memory usage: 35.9+ MB\n"
     ]
    }
   ],
   "source": [
    "df.info()"
   ]
  },
  {
   "cell_type": "code",
   "execution_count": 86,
   "metadata": {},
   "outputs": [
    {
     "data": {
      "text/plain": [
       "(258660, 14)"
      ]
     },
     "execution_count": 86,
     "metadata": {},
     "output_type": "execute_result"
    }
   ],
   "source": [
    "df.shape"
   ]
  },
  {
   "cell_type": "markdown",
   "metadata": {},
   "source": [
    "연도별, 구독형태별 이용자 수"
   ]
  },
  {
   "cell_type": "code",
   "execution_count": 87,
   "metadata": {},
   "outputs": [
    {
     "data": {
      "text/html": [
       "<div>\n",
       "<style scoped>\n",
       "    .dataframe tbody tr th:only-of-type {\n",
       "        vertical-align: middle;\n",
       "    }\n",
       "\n",
       "    .dataframe tbody tr th {\n",
       "        vertical-align: top;\n",
       "    }\n",
       "\n",
       "    .dataframe thead th {\n",
       "        text-align: right;\n",
       "    }\n",
       "</style>\n",
       "<table border=\"1\" class=\"dataframe\">\n",
       "  <thead>\n",
       "    <tr style=\"text-align: right;\">\n",
       "      <th></th>\n",
       "      <th>year</th>\n",
       "      <th>product</th>\n",
       "      <th>signup</th>\n",
       "    </tr>\n",
       "  </thead>\n",
       "  <tbody>\n",
       "    <tr>\n",
       "      <th>0</th>\n",
       "      <td>2017</td>\n",
       "      <td>annual</td>\n",
       "      <td>14487</td>\n",
       "    </tr>\n",
       "    <tr>\n",
       "      <th>1</th>\n",
       "      <td>2017</td>\n",
       "      <td>monthly</td>\n",
       "      <td>3552</td>\n",
       "    </tr>\n",
       "    <tr>\n",
       "      <th>2</th>\n",
       "      <td>2018</td>\n",
       "      <td>annual</td>\n",
       "      <td>23371</td>\n",
       "    </tr>\n",
       "    <tr>\n",
       "      <th>3</th>\n",
       "      <td>2018</td>\n",
       "      <td>monthly</td>\n",
       "      <td>7492</td>\n",
       "    </tr>\n",
       "    <tr>\n",
       "      <th>4</th>\n",
       "      <td>2019</td>\n",
       "      <td>annual</td>\n",
       "      <td>39365</td>\n",
       "    </tr>\n",
       "    <tr>\n",
       "      <th>5</th>\n",
       "      <td>2019</td>\n",
       "      <td>monthly</td>\n",
       "      <td>15231</td>\n",
       "    </tr>\n",
       "    <tr>\n",
       "      <th>6</th>\n",
       "      <td>2020</td>\n",
       "      <td>annual</td>\n",
       "      <td>37085</td>\n",
       "    </tr>\n",
       "    <tr>\n",
       "      <th>7</th>\n",
       "      <td>2020</td>\n",
       "      <td>monthly</td>\n",
       "      <td>29555</td>\n",
       "    </tr>\n",
       "    <tr>\n",
       "      <th>8</th>\n",
       "      <td>2021</td>\n",
       "      <td>annual</td>\n",
       "      <td>25039</td>\n",
       "    </tr>\n",
       "    <tr>\n",
       "      <th>9</th>\n",
       "      <td>2021</td>\n",
       "      <td>monthly</td>\n",
       "      <td>63483</td>\n",
       "    </tr>\n",
       "  </tbody>\n",
       "</table>\n",
       "</div>"
      ],
      "text/plain": [
       "   year  product  signup\n",
       "0  2017   annual   14487\n",
       "1  2017  monthly    3552\n",
       "2  2018   annual   23371\n",
       "3  2018  monthly    7492\n",
       "4  2019   annual   39365\n",
       "5  2019  monthly   15231\n",
       "6  2020   annual   37085\n",
       "7  2020  monthly   29555\n",
       "8  2021   annual   25039\n",
       "9  2021  monthly   63483"
      ]
     },
     "execution_count": 87,
     "metadata": {},
     "output_type": "execute_result"
    }
   ],
   "source": [
    "pl_signup = df.groupby(['s_year','product'], as_index=False)['id'].count()\n",
    "pl_signup.columns = ['year','product','signup']\n",
    "pl_signup"
   ]
  },
  {
   "cell_type": "code",
   "execution_count": 88,
   "metadata": {},
   "outputs": [
    {
     "name": "stdout",
     "output_type": "stream",
     "text": [
      "(59578, 14)\n"
     ]
    },
    {
     "data": {
      "text/html": [
       "<div>\n",
       "<style scoped>\n",
       "    .dataframe tbody tr th:only-of-type {\n",
       "        vertical-align: middle;\n",
       "    }\n",
       "\n",
       "    .dataframe tbody tr th {\n",
       "        vertical-align: top;\n",
       "    }\n",
       "\n",
       "    .dataframe thead th {\n",
       "        text-align: right;\n",
       "    }\n",
       "</style>\n",
       "<table border=\"1\" class=\"dataframe\">\n",
       "  <thead>\n",
       "    <tr style=\"text-align: right;\">\n",
       "      <th></th>\n",
       "      <th>id</th>\n",
       "      <th>age_gr</th>\n",
       "      <th>gender</th>\n",
       "      <th>product</th>\n",
       "      <th>channel</th>\n",
       "      <th>signup_date_time</th>\n",
       "      <th>cancel_date_time</th>\n",
       "      <th>cancel</th>\n",
       "      <th>max_date</th>\n",
       "      <th>s_date</th>\n",
       "      <th>c_date</th>\n",
       "      <th>period_m</th>\n",
       "      <th>s_year</th>\n",
       "      <th>c_year</th>\n",
       "    </tr>\n",
       "  </thead>\n",
       "  <tbody>\n",
       "    <tr>\n",
       "      <th>1</th>\n",
       "      <td>2449</td>\n",
       "      <td>60</td>\n",
       "      <td>male</td>\n",
       "      <td>annual</td>\n",
       "      <td>phone</td>\n",
       "      <td>2017-01-01 11:39:29</td>\n",
       "      <td>2021-09-05 10:00:02</td>\n",
       "      <td>1</td>\n",
       "      <td>2021-09-05 10:00:02</td>\n",
       "      <td>2017-01-01</td>\n",
       "      <td>2021-09-05</td>\n",
       "      <td>56.2</td>\n",
       "      <td>2017</td>\n",
       "      <td>2021</td>\n",
       "    </tr>\n",
       "    <tr>\n",
       "      <th>2</th>\n",
       "      <td>2450</td>\n",
       "      <td>50</td>\n",
       "      <td>female</td>\n",
       "      <td>annual</td>\n",
       "      <td>phone</td>\n",
       "      <td>2017-01-01 11:42:00</td>\n",
       "      <td>2019-01-13 16:24:55</td>\n",
       "      <td>1</td>\n",
       "      <td>2019-01-13 16:24:55</td>\n",
       "      <td>2017-01-01</td>\n",
       "      <td>2019-01-13</td>\n",
       "      <td>24.4</td>\n",
       "      <td>2017</td>\n",
       "      <td>2019</td>\n",
       "    </tr>\n",
       "    <tr>\n",
       "      <th>4</th>\n",
       "      <td>2452</td>\n",
       "      <td>70</td>\n",
       "      <td>male</td>\n",
       "      <td>annual</td>\n",
       "      <td>phone</td>\n",
       "      <td>2017-01-01 13:57:30</td>\n",
       "      <td>2021-06-28 18:06:01</td>\n",
       "      <td>1</td>\n",
       "      <td>2021-06-28 18:06:01</td>\n",
       "      <td>2017-01-01</td>\n",
       "      <td>2021-06-28</td>\n",
       "      <td>53.9</td>\n",
       "      <td>2017</td>\n",
       "      <td>2021</td>\n",
       "    </tr>\n",
       "    <tr>\n",
       "      <th>6</th>\n",
       "      <td>2454</td>\n",
       "      <td>50</td>\n",
       "      <td>male</td>\n",
       "      <td>annual</td>\n",
       "      <td>phone</td>\n",
       "      <td>2017-01-01 15:35:03</td>\n",
       "      <td>2021-06-01 17:09:40</td>\n",
       "      <td>1</td>\n",
       "      <td>2021-06-01 17:09:40</td>\n",
       "      <td>2017-01-01</td>\n",
       "      <td>2021-06-01</td>\n",
       "      <td>53.0</td>\n",
       "      <td>2017</td>\n",
       "      <td>2021</td>\n",
       "    </tr>\n",
       "    <tr>\n",
       "      <th>8</th>\n",
       "      <td>2456</td>\n",
       "      <td>70</td>\n",
       "      <td>female</td>\n",
       "      <td>annual</td>\n",
       "      <td>phone</td>\n",
       "      <td>2017-01-02 09:21:04</td>\n",
       "      <td>2017-06-08 15:57:45</td>\n",
       "      <td>1</td>\n",
       "      <td>2017-06-08 15:57:45</td>\n",
       "      <td>2017-01-02</td>\n",
       "      <td>2017-06-08</td>\n",
       "      <td>5.2</td>\n",
       "      <td>2017</td>\n",
       "      <td>2017</td>\n",
       "    </tr>\n",
       "  </tbody>\n",
       "</table>\n",
       "</div>"
      ],
      "text/plain": [
       "     id age_gr  gender product channel     signup_date_time  \\\n",
       "1  2449     60    male  annual   phone  2017-01-01 11:39:29   \n",
       "2  2450     50  female  annual   phone  2017-01-01 11:42:00   \n",
       "4  2452     70    male  annual   phone  2017-01-01 13:57:30   \n",
       "6  2454     50    male  annual   phone  2017-01-01 15:35:03   \n",
       "8  2456     70  female  annual   phone  2017-01-02 09:21:04   \n",
       "\n",
       "      cancel_date_time  cancel             max_date     s_date     c_date  \\\n",
       "1  2021-09-05 10:00:02       1  2021-09-05 10:00:02 2017-01-01 2021-09-05   \n",
       "2  2019-01-13 16:24:55       1  2019-01-13 16:24:55 2017-01-01 2019-01-13   \n",
       "4  2021-06-28 18:06:01       1  2021-06-28 18:06:01 2017-01-01 2021-06-28   \n",
       "6  2021-06-01 17:09:40       1  2021-06-01 17:09:40 2017-01-01 2021-06-01   \n",
       "8  2017-06-08 15:57:45       1  2017-06-08 15:57:45 2017-01-02 2017-06-08   \n",
       "\n",
       "   period_m  s_year  c_year  \n",
       "1      56.2    2017    2021  \n",
       "2      24.4    2017    2019  \n",
       "4      53.9    2017    2021  \n",
       "6      53.0    2017    2021  \n",
       "8       5.2    2017    2017  "
      ]
     },
     "execution_count": 88,
     "metadata": {},
     "output_type": "execute_result"
    }
   ],
   "source": [
    "# 구독취소한 사람 데이터\n",
    "df_ccl = df[df['cancel']==1]\n",
    "print(df_ccl.shape)\n",
    "df_ccl.head()"
   ]
  },
  {
   "cell_type": "code",
   "execution_count": 89,
   "metadata": {},
   "outputs": [
    {
     "data": {
      "text/html": [
       "<div>\n",
       "<style scoped>\n",
       "    .dataframe tbody tr th:only-of-type {\n",
       "        vertical-align: middle;\n",
       "    }\n",
       "\n",
       "    .dataframe tbody tr th {\n",
       "        vertical-align: top;\n",
       "    }\n",
       "\n",
       "    .dataframe thead th {\n",
       "        text-align: right;\n",
       "    }\n",
       "</style>\n",
       "<table border=\"1\" class=\"dataframe\">\n",
       "  <thead>\n",
       "    <tr style=\"text-align: right;\">\n",
       "      <th></th>\n",
       "      <th>year</th>\n",
       "      <th>product</th>\n",
       "      <th>signup</th>\n",
       "      <th>cancel</th>\n",
       "    </tr>\n",
       "  </thead>\n",
       "  <tbody>\n",
       "    <tr>\n",
       "      <th>0</th>\n",
       "      <td>2017</td>\n",
       "      <td>annual</td>\n",
       "      <td>14487</td>\n",
       "      <td>797</td>\n",
       "    </tr>\n",
       "    <tr>\n",
       "      <th>1</th>\n",
       "      <td>2017</td>\n",
       "      <td>monthly</td>\n",
       "      <td>3552</td>\n",
       "      <td>261</td>\n",
       "    </tr>\n",
       "    <tr>\n",
       "      <th>2</th>\n",
       "      <td>2018</td>\n",
       "      <td>annual</td>\n",
       "      <td>23371</td>\n",
       "      <td>2607</td>\n",
       "    </tr>\n",
       "    <tr>\n",
       "      <th>3</th>\n",
       "      <td>2018</td>\n",
       "      <td>monthly</td>\n",
       "      <td>7492</td>\n",
       "      <td>1032</td>\n",
       "    </tr>\n",
       "    <tr>\n",
       "      <th>4</th>\n",
       "      <td>2019</td>\n",
       "      <td>annual</td>\n",
       "      <td>39365</td>\n",
       "      <td>5519</td>\n",
       "    </tr>\n",
       "    <tr>\n",
       "      <th>5</th>\n",
       "      <td>2019</td>\n",
       "      <td>monthly</td>\n",
       "      <td>15231</td>\n",
       "      <td>2823</td>\n",
       "    </tr>\n",
       "    <tr>\n",
       "      <th>6</th>\n",
       "      <td>2020</td>\n",
       "      <td>annual</td>\n",
       "      <td>37085</td>\n",
       "      <td>9909</td>\n",
       "    </tr>\n",
       "    <tr>\n",
       "      <th>7</th>\n",
       "      <td>2020</td>\n",
       "      <td>monthly</td>\n",
       "      <td>29555</td>\n",
       "      <td>6572</td>\n",
       "    </tr>\n",
       "    <tr>\n",
       "      <th>8</th>\n",
       "      <td>2021</td>\n",
       "      <td>annual</td>\n",
       "      <td>25039</td>\n",
       "      <td>13690</td>\n",
       "    </tr>\n",
       "    <tr>\n",
       "      <th>9</th>\n",
       "      <td>2021</td>\n",
       "      <td>monthly</td>\n",
       "      <td>63483</td>\n",
       "      <td>16368</td>\n",
       "    </tr>\n",
       "  </tbody>\n",
       "</table>\n",
       "</div>"
      ],
      "text/plain": [
       "   year  product  signup  cancel\n",
       "0  2017   annual   14487     797\n",
       "1  2017  monthly    3552     261\n",
       "2  2018   annual   23371    2607\n",
       "3  2018  monthly    7492    1032\n",
       "4  2019   annual   39365    5519\n",
       "5  2019  monthly   15231    2823\n",
       "6  2020   annual   37085    9909\n",
       "7  2020  monthly   29555    6572\n",
       "8  2021   annual   25039   13690\n",
       "9  2021  monthly   63483   16368"
      ]
     },
     "execution_count": 89,
     "metadata": {},
     "output_type": "execute_result"
    }
   ],
   "source": [
    "pl_cancel = df_ccl.groupby(['c_year','product'], as_index=False)['id'].count()\n",
    "pl_cancel.columns = ['year','product','cancel']\n",
    "\n",
    "# 연도별, 상품별 이용자수 취합\n",
    "pl = pd.merge(pl_signup, pl_cancel) \n",
    "pl\n"
   ]
  },
  {
   "cell_type": "code",
   "execution_count": 90,
   "metadata": {},
   "outputs": [
    {
     "data": {
      "text/html": [
       "<div>\n",
       "<style scoped>\n",
       "    .dataframe tbody tr th:only-of-type {\n",
       "        vertical-align: middle;\n",
       "    }\n",
       "\n",
       "    .dataframe tbody tr th {\n",
       "        vertical-align: top;\n",
       "    }\n",
       "\n",
       "    .dataframe thead th {\n",
       "        text-align: right;\n",
       "    }\n",
       "</style>\n",
       "<table border=\"1\" class=\"dataframe\">\n",
       "  <thead>\n",
       "    <tr style=\"text-align: right;\">\n",
       "      <th></th>\n",
       "      <th>year</th>\n",
       "      <th>product</th>\n",
       "      <th>signup</th>\n",
       "      <th>cancel</th>\n",
       "      <th>period</th>\n",
       "    </tr>\n",
       "  </thead>\n",
       "  <tbody>\n",
       "    <tr>\n",
       "      <th>0</th>\n",
       "      <td>2017</td>\n",
       "      <td>annual</td>\n",
       "      <td>14487</td>\n",
       "      <td>797</td>\n",
       "      <td>44.07</td>\n",
       "    </tr>\n",
       "    <tr>\n",
       "      <th>1</th>\n",
       "      <td>2017</td>\n",
       "      <td>monthly</td>\n",
       "      <td>3552</td>\n",
       "      <td>261</td>\n",
       "      <td>40.22</td>\n",
       "    </tr>\n",
       "    <tr>\n",
       "      <th>2</th>\n",
       "      <td>2018</td>\n",
       "      <td>annual</td>\n",
       "      <td>23371</td>\n",
       "      <td>2607</td>\n",
       "      <td>35.94</td>\n",
       "    </tr>\n",
       "    <tr>\n",
       "      <th>3</th>\n",
       "      <td>2018</td>\n",
       "      <td>monthly</td>\n",
       "      <td>7492</td>\n",
       "      <td>1032</td>\n",
       "      <td>32.66</td>\n",
       "    </tr>\n",
       "    <tr>\n",
       "      <th>4</th>\n",
       "      <td>2019</td>\n",
       "      <td>annual</td>\n",
       "      <td>39365</td>\n",
       "      <td>5519</td>\n",
       "      <td>26.70</td>\n",
       "    </tr>\n",
       "    <tr>\n",
       "      <th>5</th>\n",
       "      <td>2019</td>\n",
       "      <td>monthly</td>\n",
       "      <td>15231</td>\n",
       "      <td>2823</td>\n",
       "      <td>24.40</td>\n",
       "    </tr>\n",
       "    <tr>\n",
       "      <th>6</th>\n",
       "      <td>2020</td>\n",
       "      <td>annual</td>\n",
       "      <td>37085</td>\n",
       "      <td>9909</td>\n",
       "      <td>17.10</td>\n",
       "    </tr>\n",
       "    <tr>\n",
       "      <th>7</th>\n",
       "      <td>2020</td>\n",
       "      <td>monthly</td>\n",
       "      <td>29555</td>\n",
       "      <td>6572</td>\n",
       "      <td>16.29</td>\n",
       "    </tr>\n",
       "    <tr>\n",
       "      <th>8</th>\n",
       "      <td>2021</td>\n",
       "      <td>annual</td>\n",
       "      <td>25039</td>\n",
       "      <td>13690</td>\n",
       "      <td>7.06</td>\n",
       "    </tr>\n",
       "    <tr>\n",
       "      <th>9</th>\n",
       "      <td>2021</td>\n",
       "      <td>monthly</td>\n",
       "      <td>63483</td>\n",
       "      <td>16368</td>\n",
       "      <td>7.05</td>\n",
       "    </tr>\n",
       "  </tbody>\n",
       "</table>\n",
       "</div>"
      ],
      "text/plain": [
       "   year  product  signup  cancel  period\n",
       "0  2017   annual   14487     797   44.07\n",
       "1  2017  monthly    3552     261   40.22\n",
       "2  2018   annual   23371    2607   35.94\n",
       "3  2018  monthly    7492    1032   32.66\n",
       "4  2019   annual   39365    5519   26.70\n",
       "5  2019  monthly   15231    2823   24.40\n",
       "6  2020   annual   37085    9909   17.10\n",
       "7  2020  monthly   29555    6572   16.29\n",
       "8  2021   annual   25039   13690    7.06\n",
       "9  2021  monthly   63483   16368    7.05"
      ]
     },
     "execution_count": 90,
     "metadata": {},
     "output_type": "execute_result"
    }
   ],
   "source": [
    "# 평균 구독 개월 수 추가(구독신청한 일자로부터의 구독개월 수)\n",
    "pl_period = df.groupby(['s_year','product'], as_index=False)['period_m'].mean().round(2)\n",
    "pl_period.columns = ['year','product','period']\n",
    "\n",
    "pl=pd.merge(pl, pl_period) \n",
    "pl"
   ]
  },
  {
   "cell_type": "code",
   "execution_count": 91,
   "metadata": {},
   "outputs": [
    {
     "data": {
      "image/png": "[encoded data removed]",
      "text/plain": [
       "<Figure size 432x288 with 1 Axes>"
      ]
     },
     "metadata": {},
     "output_type": "display_data"
    }
   ],
   "source": [
    "labels = ['2017','2018','2019','2020','2021']\n",
    "value_a = pl[pl['product']=='annual']['signup']\n",
    "value_b = pl[pl['product']=='monthly']['signup']\n",
    "\n",
    "# 묶은 막대 그래프\n",
    "def create_x(t, w, n, d):\n",
    "    return [t*x + w*n for x in range(d)]\n",
    "# n : This is our first dataset (out of 2)\n",
    "# t : Number of dataset\n",
    "# d : Number of sets of bars\n",
    "# w : Width of each bar\n",
    "value_a_x = create_x(2, 0.8, 1, 5)\n",
    "value_b_x = create_x(2, 0.8, 2, 5)\n",
    "\n",
    "plt.rcParams['font.family'] = 'NanumBarunGothic'\n",
    "ax = plt.subplot()\n",
    "ax.bar(value_a_x, value_a, color='lightgrey', label='연간 구독')\n",
    "ax.bar(value_b_x, value_b, color='#F9B539', label='월간 구독')\n",
    "middle_x = [(a+b)/2 for (a,b) in zip(value_a_x, value_b_x)]\n",
    "ax.set_xticks(middle_x)\n",
    "ax.set_xticklabels(labels)\n",
    "\n",
    "plt.title('연간 구독신청 추이', size=20, weight='bold', pad=15)\n",
    "plt.ylabel('이용자 수')\n",
    "plt.legend()\n",
    "# y축 천단위 , 표시\n",
    "current_values = plt.gca().get_yticks()\n",
    "plt.gca().set_yticklabels(['{:,.0f}'.format(x) for x in current_values]);\n",
    "plt.show()"
   ]
  },
  {
   "cell_type": "code",
   "execution_count": 92,
   "metadata": {},
   "outputs": [
    {
     "data": {
      "image/png": "[encoded data removed]",
      "text/plain": [
       "<Figure size 432x288 with 1 Axes>"
      ]
     },
     "metadata": {},
     "output_type": "display_data"
    }
   ],
   "source": [
    "labels = ['2017','2018','2019','2020','2021']\n",
    "value_a = pl[pl['product']=='annual']['cancel']\n",
    "value_b = pl[pl['product']=='monthly']['cancel']\n",
    "\n",
    "# 묶은 막대 그래프\n",
    "def create_x(t, w, n, d):\n",
    "    return [t*x + w*n for x in range(d)]\n",
    "# n : This is our first dataset (out of 2)\n",
    "# t : Number of dataset\n",
    "# d : Number of sets of bars\n",
    "# w : Width of each bar\n",
    "value_a_x = create_x(2, 0.8, 1, 5)\n",
    "value_b_x = create_x(2, 0.8, 2, 5)\n",
    "\n",
    "plt.rcParams['font.family'] = 'NanumBarunGothic'\n",
    "ax = plt.subplot()\n",
    "ax.bar(value_a_x, value_a, color='lightgrey', label='연간 구독')\n",
    "ax.bar(value_b_x, value_b, color='#F9B539', label='월간 구독')\n",
    "middle_x = [(a+b)/2 for (a,b) in zip(value_a_x, value_b_x)]\n",
    "ax.set_xticks(middle_x)\n",
    "ax.set_xticklabels(labels)\n",
    "\n",
    "plt.title('연간 구독취소 추이', size=20, weight='bold', pad=15)\n",
    "plt.ylabel('이용자 수')\n",
    "plt.legend()\n",
    "# y축 천단위 , 표시\n",
    "current_values = plt.gca().get_yticks()\n",
    "plt.gca().set_yticklabels(['{:,.0f}'.format(x) for x in current_values]);\n",
    "plt.show()"
   ]
  },
  {
   "cell_type": "markdown",
   "metadata": {},
   "source": [
    "- 2020년부터 월간 구독신청이 급증, 연간 구독의 취소가 더 많음  \n",
    "- 그러나 이용자 수만으로 판단하기 애매. 유형별 취소율 살펴보자\n",
    "- 연간 구독은 월간 구독보다 가격이 80% 저렴. 매출비중으로 볼 때 자사에 더 중요한 구독형태는 무엇?"
   ]
  },
  {
   "cell_type": "code",
   "execution_count": 93,
   "metadata": {},
   "outputs": [
    {
     "data": {
      "text/html": [
       "<div>\n",
       "<style scoped>\n",
       "    .dataframe tbody tr th:only-of-type {\n",
       "        vertical-align: middle;\n",
       "    }\n",
       "\n",
       "    .dataframe tbody tr th {\n",
       "        vertical-align: top;\n",
       "    }\n",
       "\n",
       "    .dataframe thead th {\n",
       "        text-align: right;\n",
       "    }\n",
       "</style>\n",
       "<table border=\"1\" class=\"dataframe\">\n",
       "  <thead>\n",
       "    <tr style=\"text-align: right;\">\n",
       "      <th></th>\n",
       "      <th>year</th>\n",
       "      <th>product</th>\n",
       "      <th>signup</th>\n",
       "      <th>cancel</th>\n",
       "      <th>period</th>\n",
       "      <th>actual</th>\n",
       "      <th>cumul</th>\n",
       "      <th>churn_rate</th>\n",
       "    </tr>\n",
       "  </thead>\n",
       "  <tbody>\n",
       "    <tr>\n",
       "      <th>0</th>\n",
       "      <td>2017</td>\n",
       "      <td>annual</td>\n",
       "      <td>14487</td>\n",
       "      <td>797</td>\n",
       "      <td>44.07</td>\n",
       "      <td>13690</td>\n",
       "      <td>13690</td>\n",
       "      <td>0.058</td>\n",
       "    </tr>\n",
       "    <tr>\n",
       "      <th>1</th>\n",
       "      <td>2018</td>\n",
       "      <td>annual</td>\n",
       "      <td>23371</td>\n",
       "      <td>2607</td>\n",
       "      <td>35.94</td>\n",
       "      <td>20764</td>\n",
       "      <td>34454</td>\n",
       "      <td>0.126</td>\n",
       "    </tr>\n",
       "    <tr>\n",
       "      <th>2</th>\n",
       "      <td>2019</td>\n",
       "      <td>annual</td>\n",
       "      <td>39365</td>\n",
       "      <td>5519</td>\n",
       "      <td>26.70</td>\n",
       "      <td>33846</td>\n",
       "      <td>68300</td>\n",
       "      <td>0.163</td>\n",
       "    </tr>\n",
       "    <tr>\n",
       "      <th>3</th>\n",
       "      <td>2020</td>\n",
       "      <td>annual</td>\n",
       "      <td>37085</td>\n",
       "      <td>9909</td>\n",
       "      <td>17.10</td>\n",
       "      <td>27176</td>\n",
       "      <td>95476</td>\n",
       "      <td>0.365</td>\n",
       "    </tr>\n",
       "    <tr>\n",
       "      <th>4</th>\n",
       "      <td>2021</td>\n",
       "      <td>annual</td>\n",
       "      <td>25039</td>\n",
       "      <td>13690</td>\n",
       "      <td>7.06</td>\n",
       "      <td>11349</td>\n",
       "      <td>106825</td>\n",
       "      <td>1.206</td>\n",
       "    </tr>\n",
       "  </tbody>\n",
       "</table>\n",
       "</div>"
      ],
      "text/plain": [
       "   year product  signup  cancel  period  actual   cumul  churn_rate\n",
       "0  2017  annual   14487     797   44.07   13690   13690       0.058\n",
       "1  2018  annual   23371    2607   35.94   20764   34454       0.126\n",
       "2  2019  annual   39365    5519   26.70   33846   68300       0.163\n",
       "3  2020  annual   37085    9909   17.10   27176   95476       0.365\n",
       "4  2021  annual   25039   13690    7.06   11349  106825       1.206"
      ]
     },
     "execution_count": 93,
     "metadata": {},
     "output_type": "execute_result"
    }
   ],
   "source": [
    "# 연간 구독 이용자\n",
    "\n",
    "from cgi import print_exception\n",
    "\n",
    "\n",
    "pl_ann = pl[pl['product']=='annual'].reset_index(drop=True)\n",
    "\n",
    "# 연도별 잔존 이용자\n",
    "pl_ann['actual'] = pl_ann.signup - pl_ann.cancel\n",
    "# 연도별 누적 이용객 수(이탈률 구할 때 사용)\n",
    "lst = [13690]\n",
    "for i in range(1,5):\n",
    "    val = lst[i-1] + pl_ann.loc[i,'signup'] - pl_ann.loc[i,'cancel']\n",
    "    lst.append(val)\n",
    "pl_ann['cumul'] =lst\n",
    "\n",
    "# 고객이탈률\n",
    "# 당월 고객 이탈수 / 월초 고객 수 (당월 신규는 제외)\n",
    "pl_ann['churn_rate'] = round(pl_ann['cancel'] / pl_ann['actual'],3)\n",
    "pl_ann.head()\n"
   ]
  },
  {
   "cell_type": "code",
   "execution_count": 94,
   "metadata": {},
   "outputs": [
    {
     "data": {
      "text/html": [
       "<div>\n",
       "<style scoped>\n",
       "    .dataframe tbody tr th:only-of-type {\n",
       "        vertical-align: middle;\n",
       "    }\n",
       "\n",
       "    .dataframe tbody tr th {\n",
       "        vertical-align: top;\n",
       "    }\n",
       "\n",
       "    .dataframe thead th {\n",
       "        text-align: right;\n",
       "    }\n",
       "</style>\n",
       "<table border=\"1\" class=\"dataframe\">\n",
       "  <thead>\n",
       "    <tr style=\"text-align: right;\">\n",
       "      <th></th>\n",
       "      <th>year</th>\n",
       "      <th>product</th>\n",
       "      <th>signup</th>\n",
       "      <th>cancel</th>\n",
       "      <th>period</th>\n",
       "      <th>actual</th>\n",
       "      <th>cumul</th>\n",
       "      <th>churn_rate</th>\n",
       "    </tr>\n",
       "  </thead>\n",
       "  <tbody>\n",
       "    <tr>\n",
       "      <th>0</th>\n",
       "      <td>2017</td>\n",
       "      <td>monthly</td>\n",
       "      <td>3552</td>\n",
       "      <td>261</td>\n",
       "      <td>40.22</td>\n",
       "      <td>3291</td>\n",
       "      <td>3291</td>\n",
       "      <td>0.079</td>\n",
       "    </tr>\n",
       "    <tr>\n",
       "      <th>1</th>\n",
       "      <td>2018</td>\n",
       "      <td>monthly</td>\n",
       "      <td>7492</td>\n",
       "      <td>1032</td>\n",
       "      <td>32.66</td>\n",
       "      <td>6460</td>\n",
       "      <td>9751</td>\n",
       "      <td>0.160</td>\n",
       "    </tr>\n",
       "    <tr>\n",
       "      <th>2</th>\n",
       "      <td>2019</td>\n",
       "      <td>monthly</td>\n",
       "      <td>15231</td>\n",
       "      <td>2823</td>\n",
       "      <td>24.40</td>\n",
       "      <td>12408</td>\n",
       "      <td>22159</td>\n",
       "      <td>0.228</td>\n",
       "    </tr>\n",
       "    <tr>\n",
       "      <th>3</th>\n",
       "      <td>2020</td>\n",
       "      <td>monthly</td>\n",
       "      <td>29555</td>\n",
       "      <td>6572</td>\n",
       "      <td>16.29</td>\n",
       "      <td>22983</td>\n",
       "      <td>45142</td>\n",
       "      <td>0.286</td>\n",
       "    </tr>\n",
       "    <tr>\n",
       "      <th>4</th>\n",
       "      <td>2021</td>\n",
       "      <td>monthly</td>\n",
       "      <td>63483</td>\n",
       "      <td>16368</td>\n",
       "      <td>7.05</td>\n",
       "      <td>47115</td>\n",
       "      <td>92257</td>\n",
       "      <td>0.347</td>\n",
       "    </tr>\n",
       "  </tbody>\n",
       "</table>\n",
       "</div>"
      ],
      "text/plain": [
       "   year  product  signup  cancel  period  actual  cumul  churn_rate\n",
       "0  2017  monthly    3552     261   40.22    3291   3291       0.079\n",
       "1  2018  monthly    7492    1032   32.66    6460   9751       0.160\n",
       "2  2019  monthly   15231    2823   24.40   12408  22159       0.228\n",
       "3  2020  monthly   29555    6572   16.29   22983  45142       0.286\n",
       "4  2021  monthly   63483   16368    7.05   47115  92257       0.347"
      ]
     },
     "execution_count": 94,
     "metadata": {},
     "output_type": "execute_result"
    }
   ],
   "source": [
    "# 월간 구독 이용자\n",
    "pl_mon = pl[pl['product']=='monthly'].reset_index(drop=True)\n",
    "\n",
    "# 연도발 잔존 이용자\n",
    "pl_mon['actual'] = pl_mon.signup - pl_mon.cancel\n",
    "# 연도별 누적이용객 수\n",
    "lst = [3291]\n",
    "for i in range(1,5):\n",
    "    val = lst[i-1] + pl_mon.loc[i,'signup'] - pl_mon.loc[i,'cancel']\n",
    "    lst.append(val)\n",
    "pl_mon['cumul'] =lst\n",
    "\n",
    "# 고객이탈률\n",
    "# 당월 고객 이탈수 / 월초 고객 수 (당월 신규는 제외)\n",
    "pl_mon['churn_rate'] = round(pl_mon['cancel'] / pl_mon['actual'],3)\n",
    "pl_mon.head()"
   ]
  },
  {
   "cell_type": "code",
   "execution_count": 242,
   "metadata": {},
   "outputs": [
    {
     "data": {
      "image/png": "[encoded data removed]",
      "text/plain": [
       "<Figure size 1440x1008 with 1 Axes>"
      ]
     },
     "metadata": {},
     "output_type": "display_data"
    }
   ],
   "source": [
    "churn_rate = pd.DataFrame({'year' : [2017,2018,2019,2020,2021],\n",
    "                        'annual':pl_ann['churn_rate'],\n",
    "                        'monthly':pl_mon['churn_rate']})\n",
    "\n",
    "plt.rcParams['font.family'] = 'NanumBarunGothic'\n",
    "plt.figure(figsize=(10,7))\n",
    "sns.lineplot(x='year', y='annual', marker='o',data=churn_rate, color='#F9B539', linewidth='3')\n",
    "sns.lineplot(x='year', y='monthly', marker='o',data=churn_rate, color='lightgrey', linewidth='3')\n",
    "plt.title('구독 유형별 이용자 이탈률', size=20, weight='bold', pad=15)\n",
    "plt.xticks(churn_rate['year'])\n",
    "plt.legend(['연간구독', '월간구독'])\n",
    "plt.xlabel('')\n",
    "plt.ylabel('')\n",
    "# 축 라벨 백분율로 표기\n",
    "current_values = plt.gca().get_yticks()\n",
    "plt.gca().set_yticklabels(['{:.0%}'.format(x) for x in current_values])\n",
    " \n",
    "plt.show()"
   ]
  },
  {
   "cell_type": "markdown",
   "metadata": {},
   "source": [
    "연간구독보다 월간구볻의 이탈률이 큼"
   ]
  },
  {
   "cell_type": "code",
   "execution_count": 96,
   "metadata": {},
   "outputs": [
    {
     "data": {
      "text/html": [
       "<div>\n",
       "<style scoped>\n",
       "    .dataframe tbody tr th:only-of-type {\n",
       "        vertical-align: middle;\n",
       "    }\n",
       "\n",
       "    .dataframe tbody tr th {\n",
       "        vertical-align: top;\n",
       "    }\n",
       "\n",
       "    .dataframe thead th {\n",
       "        text-align: right;\n",
       "    }\n",
       "</style>\n",
       "<table border=\"1\" class=\"dataframe\">\n",
       "  <thead>\n",
       "    <tr style=\"text-align: right;\">\n",
       "      <th></th>\n",
       "      <th>product</th>\n",
       "      <th>sales</th>\n",
       "    </tr>\n",
       "  </thead>\n",
       "  <tbody>\n",
       "    <tr>\n",
       "      <th>0</th>\n",
       "      <td>annual</td>\n",
       "      <td>335524506</td>\n",
       "    </tr>\n",
       "    <tr>\n",
       "      <th>1</th>\n",
       "      <td>monthly</td>\n",
       "      <td>278200984</td>\n",
       "    </tr>\n",
       "  </tbody>\n",
       "</table>\n",
       "</div>"
      ],
      "text/plain": [
       "   product      sales\n",
       "0   annual  335524506\n",
       "1  monthly  278200984"
      ]
     },
     "execution_count": 96,
     "metadata": {},
     "output_type": "execute_result"
    }
   ],
   "source": [
    "ann_sales = (pl_ann.loc[4,'cumul'] * pl_ann['period'].mean() * 120).round(0).astype(int)\n",
    "mon_sales = (pl_mon.loc[4,'cumul'] * pl_mon['period'].mean() * 125).round(0).astype(int)\n",
    "\n",
    "\n",
    "sales = pd.DataFrame({'product':['annual','monthly'],'sales':[ann_sales, mon_sales]})\n",
    "sales"
   ]
  },
  {
   "cell_type": "code",
   "execution_count": 97,
   "metadata": {},
   "outputs": [
    {
     "data": {
      "application/vnd.plotly.v1+json": {
       "config": {
        "plotlyServerURL": "https://plot.ly"
       },
       "data": [
        {
         "domain": {
          "x": [
           0,
           1
          ],
          "y": [
           0,
           1
          ]
         },
         "hovertemplate": "label=%{label}<br>value=%{value}<extra></extra>",
         "labels": [
          "연간구독",
          "월간구독"
         ],
         "legendgroup": "",
         "name": "",
         "showlegend": true,
         "textinfo": "percent+label",
         "textposition": "inside",
         "type": "pie",
         "values": [
          335524506,
          278200984
         ]
        }
       ],
       "layout": {
        "legend": {
         "tracegroupgap": 0
        },
        "margin": {
         "t": 60
        },
        "piecolorway": [
         "rgb(236, 218, 154)",
         "rgb(239, 196, 126)",
         "rgb(243, 173, 106)",
         "rgb(247, 148, 93)",
         "rgb(249, 123, 87)",
         "rgb(246, 99, 86)",
         "rgb(238, 77, 90)"
        ],
        "showlegend": false,
        "template": {
         "data": {
          "bar": [
           {
            "error_x": {
             "color": "#2a3f5f"
            },
            "error_y": {
             "color": "#2a3f5f"
            },
            "marker": {
             "line": {
              "color": "#E5ECF6",
              "width": 0.5
             },
             "pattern": {
              "fillmode": "overlay",
              "size": 10,
              "solidity": 0.2
             }
            },
            "type": "bar"
           }
          ],
          "barpolar": [
           {
            "marker": {
             "line": {
              "color": "#E5ECF6",
              "width": 0.5
             },
             "pattern": {
              "fillmode": "overlay",
              "size": 10,
              "solidity": 0.2
             }
            },
            "type": "barpolar"
           }
          ],
          "carpet": [
           {
            "aaxis": {
             "endlinecolor": "#2a3f5f",
             "gridcolor": "white",
             "linecolor": "white",
             "minorgridcolor": "white",
             "startlinecolor": "#2a3f5f"
            },
            "baxis": {
             "endlinecolor": "#2a3f5f",
             "gridcolor": "white",
             "linecolor": "white",
             "minorgridcolor": "white",
             "startlinecolor": "#2a3f5f"
            },
            "type": "carpet"
           }
          ],
          "choropleth": [
           {
            "colorbar": {
             "outlinewidth": 0,
             "ticks": ""
            },
            "type": "choropleth"
           }
          ],
          "contour": [
           {
            "colorbar": {
             "outlinewidth": 0,
             "ticks": ""
            },
            "colorscale": [
             [
              0,
              "#0d0887"
             ],
             [
              0.1111111111111111,
              "#46039f"
             ],
             [
              0.2222222222222222,
              "#7201a8"
             ],
             [
              0.3333333333333333,
              "#9c179e"
             ],
             [
              0.4444444444444444,
              "#bd3786"
             ],
             [
              0.5555555555555556,
              "#d8576b"
             ],
             [
              0.6666666666666666,
              "#ed7953"
             ],
             [
              0.7777777777777778,
              "#fb9f3a"
             ],
             [
              0.8888888888888888,
              "#fdca26"
             ],
             [
              1,
              "#f0f921"
             ]
            ],
            "type": "contour"
           }
          ],
          "contourcarpet": [
           {
            "colorbar": {
             "outlinewidth": 0,
             "ticks": ""
            },
            "type": "contourcarpet"
           }
          ],
          "heatmap": [
           {
            "colorbar": {
             "outlinewidth": 0,
             "ticks": ""
            },
            "colorscale": [
             [
              0,
              "#0d0887"
             ],
             [
              0.1111111111111111,
              "#46039f"
             ],
             [
              0.2222222222222222,
              "#7201a8"
             ],
             [
              0.3333333333333333,
              "#9c179e"
             ],
             [
              0.4444444444444444,
              "#bd3786"
             ],
             [
              0.5555555555555556,
              "#d8576b"
             ],
             [
              0.6666666666666666,
              "#ed7953"
             ],
             [
              0.7777777777777778,
              "#fb9f3a"
             ],
             [
              0.8888888888888888,
              "#fdca26"
             ],
             [
              1,
              "#f0f921"
             ]
            ],
            "type": "heatmap"
           }
          ],
          "heatmapgl": [
           {
            "colorbar": {
             "outlinewidth": 0,
             "ticks": ""
            },
            "colorscale": [
             [
              0,
              "#0d0887"
             ],
             [
              0.1111111111111111,
              "#46039f"
             ],
             [
              0.2222222222222222,
              "#7201a8"
             ],
             [
              0.3333333333333333,
              "#9c179e"
             ],
             [
              0.4444444444444444,
              "#bd3786"
             ],
             [
              0.5555555555555556,
              "#d8576b"
             ],
             [
              0.6666666666666666,
              "#ed7953"
             ],
             [
              0.7777777777777778,
              "#fb9f3a"
             ],
             [
              0.8888888888888888,
              "#fdca26"
             ],
             [
              1,
              "#f0f921"
             ]
            ],
            "type": "heatmapgl"
           }
          ],
          "histogram": [
           {
            "marker": {
             "pattern": {
              "fillmode": "overlay",
              "size": 10,
              "solidity": 0.2
             }
            },
            "type": "histogram"
           }
          ],
          "histogram2d": [
           {
            "colorbar": {
             "outlinewidth": 0,
             "ticks": ""
            },
            "colorscale": [
             [
              0,
              "#0d0887"
             ],
             [
              0.1111111111111111,
              "#46039f"
             ],
             [
              0.2222222222222222,
              "#7201a8"
             ],
             [
              0.3333333333333333,
              "#9c179e"
             ],
             [
              0.4444444444444444,
              "#bd3786"
             ],
             [
              0.5555555555555556,
              "#d8576b"
             ],
             [
              0.6666666666666666,
              "#ed7953"
             ],
             [
              0.7777777777777778,
              "#fb9f3a"
             ],
             [
              0.8888888888888888,
              "#fdca26"
             ],
             [
              1,
              "#f0f921"
             ]
            ],
            "type": "histogram2d"
           }
          ],
          "histogram2dcontour": [
           {
            "colorbar": {
             "outlinewidth": 0,
             "ticks": ""
            },
            "colorscale": [
             [
              0,
              "#0d0887"
             ],
             [
              0.1111111111111111,
              "#46039f"
             ],
             [
              0.2222222222222222,
              "#7201a8"
             ],
             [
              0.3333333333333333,
              "#9c179e"
             ],
             [
              0.4444444444444444,
              "#bd3786"
             ],
             [
              0.5555555555555556,
              "#d8576b"
             ],
             [
              0.6666666666666666,
              "#ed7953"
             ],
             [
              0.7777777777777778,
              "#fb9f3a"
             ],
             [
              0.8888888888888888,
              "#fdca26"
             ],
             [
              1,
              "#f0f921"
             ]
            ],
            "type": "histogram2dcontour"
           }
          ],
          "mesh3d": [
           {
            "colorbar": {
             "outlinewidth": 0,
             "ticks": ""
            },
            "type": "mesh3d"
           }
          ],
          "parcoords": [
           {
            "line": {
             "colorbar": {
              "outlinewidth": 0,
              "ticks": ""
             }
            },
            "type": "parcoords"
           }
          ],
          "pie": [
           {
            "automargin": true,
            "type": "pie"
           }
          ],
          "scatter": [
           {
            "fillpattern": {
             "fillmode": "overlay",
             "size": 10,
             "solidity": 0.2
            },
            "type": "scatter"
           }
          ],
          "scatter3d": [
           {
            "line": {
             "colorbar": {
              "outlinewidth": 0,
              "ticks": ""
             }
            },
            "marker": {
             "colorbar": {
              "outlinewidth": 0,
              "ticks": ""
             }
            },
            "type": "scatter3d"
           }
          ],
          "scattercarpet": [
           {
            "marker": {
             "colorbar": {
              "outlinewidth": 0,
              "ticks": ""
             }
            },
            "type": "scattercarpet"
           }
          ],
          "scattergeo": [
           {
            "marker": {
             "colorbar": {
              "outlinewidth": 0,
              "ticks": ""
             }
            },
            "type": "scattergeo"
           }
          ],
          "scattergl": [
           {
            "marker": {
             "colorbar": {
              "outlinewidth": 0,
              "ticks": ""
             }
            },
            "type": "scattergl"
           }
          ],
          "scattermapbox": [
           {
            "marker": {
             "colorbar": {
              "outlinewidth": 0,
              "ticks": ""
             }
            },
            "type": "scattermapbox"
           }
          ],
          "scatterpolar": [
           {
            "marker": {
             "colorbar": {
              "outlinewidth": 0,
              "ticks": ""
             }
            },
            "type": "scatterpolar"
           }
          ],
          "scatterpolargl": [
           {
            "marker": {
             "colorbar": {
              "outlinewidth": 0,
              "ticks": ""
             }
            },
            "type": "scatterpolargl"
           }
          ],
          "scatterternary": [
           {
            "marker": {
             "colorbar": {
              "outlinewidth": 0,
              "ticks": ""
             }
            },
            "type": "scatterternary"
           }
          ],
          "surface": [
           {
            "colorbar": {
             "outlinewidth": 0,
             "ticks": ""
            },
            "colorscale": [
             [
              0,
              "#0d0887"
             ],
             [
              0.1111111111111111,
              "#46039f"
             ],
             [
              0.2222222222222222,
              "#7201a8"
             ],
             [
              0.3333333333333333,
              "#9c179e"
             ],
             [
              0.4444444444444444,
              "#bd3786"
             ],
             [
              0.5555555555555556,
              "#d8576b"
             ],
             [
              0.6666666666666666,
              "#ed7953"
             ],
             [
              0.7777777777777778,
              "#fb9f3a"
             ],
             [
              0.8888888888888888,
              "#fdca26"
             ],
             [
              1,
              "#f0f921"
             ]
            ],
            "type": "surface"
           }
          ],
          "table": [
           {
            "cells": {
             "fill": {
              "color": "#EBF0F8"
             },
             "line": {
              "color": "white"
             }
            },
            "header": {
             "fill": {
              "color": "#C8D4E3"
             },
             "line": {
              "color": "white"
             }
            },
            "type": "table"
           }
          ]
         },
         "layout": {
          "annotationdefaults": {
           "arrowcolor": "#2a3f5f",
           "arrowhead": 0,
           "arrowwidth": 1
          },
          "autotypenumbers": "strict",
          "coloraxis": {
           "colorbar": {
            "outlinewidth": 0,
            "ticks": ""
           }
          },
          "colorscale": {
           "diverging": [
            [
             0,
             "#8e0152"
            ],
            [
             0.1,
             "#c51b7d"
            ],
            [
             0.2,
             "#de77ae"
            ],
            [
             0.3,
             "#f1b6da"
            ],
            [
             0.4,
             "#fde0ef"
            ],
            [
             0.5,
             "#f7f7f7"
            ],
            [
             0.6,
             "#e6f5d0"
            ],
            [
             0.7,
             "#b8e186"
            ],
            [
             0.8,
             "#7fbc41"
            ],
            [
             0.9,
             "#4d9221"
            ],
            [
             1,
             "#276419"
            ]
           ],
           "sequential": [
            [
             0,
             "#0d0887"
            ],
            [
             0.1111111111111111,
             "#46039f"
            ],
            [
             0.2222222222222222,
             "#7201a8"
            ],
            [
             0.3333333333333333,
             "#9c179e"
            ],
            [
             0.4444444444444444,
             "#bd3786"
            ],
            [
             0.5555555555555556,
             "#d8576b"
            ],
            [
             0.6666666666666666,
             "#ed7953"
            ],
            [
             0.7777777777777778,
             "#fb9f3a"
            ],
            [
             0.8888888888888888,
             "#fdca26"
            ],
            [
             1,
             "#f0f921"
            ]
           ],
           "sequentialminus": [
            [
             0,
             "#0d0887"
            ],
            [
             0.1111111111111111,
             "#46039f"
            ],
            [
             0.2222222222222222,
             "#7201a8"
            ],
            [
             0.3333333333333333,
             "#9c179e"
            ],
            [
             0.4444444444444444,
             "#bd3786"
            ],
            [
             0.5555555555555556,
             "#d8576b"
            ],
            [
             0.6666666666666666,
             "#ed7953"
            ],
            [
             0.7777777777777778,
             "#fb9f3a"
            ],
            [
             0.8888888888888888,
             "#fdca26"
            ],
            [
             1,
             "#f0f921"
            ]
           ]
          },
          "colorway": [
           "#636efa",
           "#EF553B",
           "#00cc96",
           "#ab63fa",
           "#FFA15A",
           "#19d3f3",
           "#FF6692",
           "#B6E880",
           "#FF97FF",
           "#FECB52"
          ],
          "font": {
           "color": "#2a3f5f"
          },
          "geo": {
           "bgcolor": "white",
           "lakecolor": "white",
           "landcolor": "#E5ECF6",
           "showlakes": true,
           "showland": true,
           "subunitcolor": "white"
          },
          "hoverlabel": {
           "align": "left"
          },
          "hovermode": "closest",
          "mapbox": {
           "style": "light"
          },
          "paper_bgcolor": "white",
          "plot_bgcolor": "#E5ECF6",
          "polar": {
           "angularaxis": {
            "gridcolor": "white",
            "linecolor": "white",
            "ticks": ""
           },
           "bgcolor": "#E5ECF6",
           "radialaxis": {
            "gridcolor": "white",
            "linecolor": "white",
            "ticks": ""
           }
          },
          "scene": {
           "xaxis": {
            "backgroundcolor": "#E5ECF6",
            "gridcolor": "white",
            "gridwidth": 2,
            "linecolor": "white",
            "showbackground": true,
            "ticks": "",
            "zerolinecolor": "white"
           },
           "yaxis": {
            "backgroundcolor": "#E5ECF6",
            "gridcolor": "white",
            "gridwidth": 2,
            "linecolor": "white",
            "showbackground": true,
            "ticks": "",
            "zerolinecolor": "white"
           },
           "zaxis": {
            "backgroundcolor": "#E5ECF6",
            "gridcolor": "white",
            "gridwidth": 2,
            "linecolor": "white",
            "showbackground": true,
            "ticks": "",
            "zerolinecolor": "white"
           }
          },
          "shapedefaults": {
           "line": {
            "color": "#2a3f5f"
           }
          },
          "ternary": {
           "aaxis": {
            "gridcolor": "white",
            "linecolor": "white",
            "ticks": ""
           },
           "baxis": {
            "gridcolor": "white",
            "linecolor": "white",
            "ticks": ""
           },
           "bgcolor": "#E5ECF6",
           "caxis": {
            "gridcolor": "white",
            "linecolor": "white",
            "ticks": ""
           }
          },
          "title": {
           "x": 0.05
          },
          "xaxis": {
           "automargin": true,
           "gridcolor": "white",
           "linecolor": "white",
           "ticks": "",
           "title": {
            "standoff": 15
           },
           "zerolinecolor": "white",
           "zerolinewidth": 2
          },
          "yaxis": {
           "automargin": true,
           "gridcolor": "white",
           "linecolor": "white",
           "ticks": "",
           "title": {
            "standoff": 15
           },
           "zerolinecolor": "white",
           "zerolinewidth": 2
          }
         }
        }
       }
      }
     },
     "metadata": {},
     "output_type": "display_data"
    }
   ],
   "source": [
    "# product 시각화\n",
    "fig = px.pie(values=sales['sales'],\n",
    "             names=['연간구독','월간구독'],\n",
    "             color_discrete_sequence=px.colors.sequential.Oryel)\n",
    "fig.update_traces(textposition='inside', textinfo='percent+label')\n",
    "fig.update_layout(showlegend=False)\n",
    "fig.show()"
   ]
  },
  {
   "cell_type": "markdown",
   "metadata": {},
   "source": [
    "월간구독이 연간구독보다 판매가는 높지만 고객의 이탈률이 높음  \n",
    "연간구독은 월간구독보다 평균 구독기간이 길어 비교적 장기적인 고객관계 형성 용이  \n",
    "현재 구독 이용자 매출 비중에서도 연간구독이 더 큼  \n",
    "따라서, 연간구독 이용자의 해지방어에 집중한다!"
   ]
  },
  {
   "cell_type": "markdown",
   "metadata": {},
   "source": [
    "* * *"
   ]
  },
  {
   "cell_type": "markdown",
   "metadata": {},
   "source": [
    "### 연간구독 해지 이용자 분석   \n",
    "연간구독 해지 이용자의 특징을 분석하여 해지가 예상되는 고객을 분류하는 기준으로 설정하고자 함"
   ]
  },
  {
   "cell_type": "code",
   "execution_count": 98,
   "metadata": {},
   "outputs": [
    {
     "name": "stdout",
     "output_type": "stream",
     "text": [
      "(32522, 12)\n"
     ]
    },
    {
     "data": {
      "text/html": [
       "<div>\n",
       "<style scoped>\n",
       "    .dataframe tbody tr th:only-of-type {\n",
       "        vertical-align: middle;\n",
       "    }\n",
       "\n",
       "    .dataframe tbody tr th {\n",
       "        vertical-align: top;\n",
       "    }\n",
       "\n",
       "    .dataframe thead th {\n",
       "        text-align: right;\n",
       "    }\n",
       "</style>\n",
       "<table border=\"1\" class=\"dataframe\">\n",
       "  <thead>\n",
       "    <tr style=\"text-align: right;\">\n",
       "      <th></th>\n",
       "      <th>id</th>\n",
       "      <th>age_gr</th>\n",
       "      <th>gender</th>\n",
       "      <th>channel</th>\n",
       "      <th>signup_date_time</th>\n",
       "      <th>cancel_date_time</th>\n",
       "      <th>max_date</th>\n",
       "      <th>s_date</th>\n",
       "      <th>c_date</th>\n",
       "      <th>period_m</th>\n",
       "      <th>s_year</th>\n",
       "      <th>c_year</th>\n",
       "    </tr>\n",
       "  </thead>\n",
       "  <tbody>\n",
       "    <tr>\n",
       "      <th>1</th>\n",
       "      <td>2449</td>\n",
       "      <td>60</td>\n",
       "      <td>male</td>\n",
       "      <td>phone</td>\n",
       "      <td>2017-01-01 11:39:29</td>\n",
       "      <td>2021-09-05 10:00:02</td>\n",
       "      <td>2021-09-05 10:00:02</td>\n",
       "      <td>2017-01-01</td>\n",
       "      <td>2021-09-05</td>\n",
       "      <td>56.2</td>\n",
       "      <td>2017</td>\n",
       "      <td>2021</td>\n",
       "    </tr>\n",
       "    <tr>\n",
       "      <th>2</th>\n",
       "      <td>2450</td>\n",
       "      <td>50</td>\n",
       "      <td>female</td>\n",
       "      <td>phone</td>\n",
       "      <td>2017-01-01 11:42:00</td>\n",
       "      <td>2019-01-13 16:24:55</td>\n",
       "      <td>2019-01-13 16:24:55</td>\n",
       "      <td>2017-01-01</td>\n",
       "      <td>2019-01-13</td>\n",
       "      <td>24.4</td>\n",
       "      <td>2017</td>\n",
       "      <td>2019</td>\n",
       "    </tr>\n",
       "    <tr>\n",
       "      <th>4</th>\n",
       "      <td>2452</td>\n",
       "      <td>70</td>\n",
       "      <td>male</td>\n",
       "      <td>phone</td>\n",
       "      <td>2017-01-01 13:57:30</td>\n",
       "      <td>2021-06-28 18:06:01</td>\n",
       "      <td>2021-06-28 18:06:01</td>\n",
       "      <td>2017-01-01</td>\n",
       "      <td>2021-06-28</td>\n",
       "      <td>53.9</td>\n",
       "      <td>2017</td>\n",
       "      <td>2021</td>\n",
       "    </tr>\n",
       "    <tr>\n",
       "      <th>6</th>\n",
       "      <td>2454</td>\n",
       "      <td>50</td>\n",
       "      <td>male</td>\n",
       "      <td>phone</td>\n",
       "      <td>2017-01-01 15:35:03</td>\n",
       "      <td>2021-06-01 17:09:40</td>\n",
       "      <td>2021-06-01 17:09:40</td>\n",
       "      <td>2017-01-01</td>\n",
       "      <td>2021-06-01</td>\n",
       "      <td>53.0</td>\n",
       "      <td>2017</td>\n",
       "      <td>2021</td>\n",
       "    </tr>\n",
       "    <tr>\n",
       "      <th>8</th>\n",
       "      <td>2456</td>\n",
       "      <td>70</td>\n",
       "      <td>female</td>\n",
       "      <td>phone</td>\n",
       "      <td>2017-01-02 09:21:04</td>\n",
       "      <td>2017-06-08 15:57:45</td>\n",
       "      <td>2017-06-08 15:57:45</td>\n",
       "      <td>2017-01-02</td>\n",
       "      <td>2017-06-08</td>\n",
       "      <td>5.2</td>\n",
       "      <td>2017</td>\n",
       "      <td>2017</td>\n",
       "    </tr>\n",
       "  </tbody>\n",
       "</table>\n",
       "</div>"
      ],
      "text/plain": [
       "     id age_gr  gender channel     signup_date_time     cancel_date_time  \\\n",
       "1  2449     60    male   phone  2017-01-01 11:39:29  2021-09-05 10:00:02   \n",
       "2  2450     50  female   phone  2017-01-01 11:42:00  2019-01-13 16:24:55   \n",
       "4  2452     70    male   phone  2017-01-01 13:57:30  2021-06-28 18:06:01   \n",
       "6  2454     50    male   phone  2017-01-01 15:35:03  2021-06-01 17:09:40   \n",
       "8  2456     70  female   phone  2017-01-02 09:21:04  2017-06-08 15:57:45   \n",
       "\n",
       "              max_date     s_date     c_date  period_m  s_year  c_year  \n",
       "1  2021-09-05 10:00:02 2017-01-01 2021-09-05      56.2    2017    2021  \n",
       "2  2019-01-13 16:24:55 2017-01-01 2019-01-13      24.4    2017    2019  \n",
       "4  2021-06-28 18:06:01 2017-01-01 2021-06-28      53.9    2017    2021  \n",
       "6  2021-06-01 17:09:40 2017-01-01 2021-06-01      53.0    2017    2021  \n",
       "8  2017-06-08 15:57:45 2017-01-02 2017-06-08       5.2    2017    2017  "
      ]
     },
     "execution_count": 98,
     "metadata": {},
     "output_type": "execute_result"
    }
   ],
   "source": [
    "ccl_ann = df_ccl[df_ccl['product']=='annual']\n",
    "ccl_ann.drop(columns=['product','cancel'], inplace=True)\n",
    "print(ccl_ann.shape)\n",
    "ccl_ann.head()"
   ]
  },
  {
   "cell_type": "code",
   "execution_count": 99,
   "metadata": {},
   "outputs": [
    {
     "data": {
      "text/html": [
       "<div>\n",
       "<style scoped>\n",
       "    .dataframe tbody tr th:only-of-type {\n",
       "        vertical-align: middle;\n",
       "    }\n",
       "\n",
       "    .dataframe tbody tr th {\n",
       "        vertical-align: top;\n",
       "    }\n",
       "\n",
       "    .dataframe thead th {\n",
       "        text-align: right;\n",
       "    }\n",
       "</style>\n",
       "<table border=\"1\" class=\"dataframe\">\n",
       "  <thead>\n",
       "    <tr style=\"text-align: right;\">\n",
       "      <th></th>\n",
       "      <th>period_m</th>\n",
       "      <th>s_year</th>\n",
       "      <th>c_year</th>\n",
       "    </tr>\n",
       "  </thead>\n",
       "  <tbody>\n",
       "    <tr>\n",
       "      <th>count</th>\n",
       "      <td>32522.000000</td>\n",
       "      <td>32522.000000</td>\n",
       "      <td>32522.000000</td>\n",
       "    </tr>\n",
       "    <tr>\n",
       "      <th>mean</th>\n",
       "      <td>17.546402</td>\n",
       "      <td>2018.710411</td>\n",
       "      <td>2020.017404</td>\n",
       "    </tr>\n",
       "    <tr>\n",
       "      <th>std</th>\n",
       "      <td>12.962896</td>\n",
       "      <td>1.148577</td>\n",
       "      <td>1.063758</td>\n",
       "    </tr>\n",
       "    <tr>\n",
       "      <th>min</th>\n",
       "      <td>0.000000</td>\n",
       "      <td>2017.000000</td>\n",
       "      <td>2017.000000</td>\n",
       "    </tr>\n",
       "    <tr>\n",
       "      <th>25%</th>\n",
       "      <td>6.900000</td>\n",
       "      <td>2018.000000</td>\n",
       "      <td>2019.000000</td>\n",
       "    </tr>\n",
       "    <tr>\n",
       "      <th>50%</th>\n",
       "      <td>14.900000</td>\n",
       "      <td>2019.000000</td>\n",
       "      <td>2020.000000</td>\n",
       "    </tr>\n",
       "    <tr>\n",
       "      <th>75%</th>\n",
       "      <td>25.800000</td>\n",
       "      <td>2020.000000</td>\n",
       "      <td>2021.000000</td>\n",
       "    </tr>\n",
       "    <tr>\n",
       "      <th>max</th>\n",
       "      <td>59.900000</td>\n",
       "      <td>2021.000000</td>\n",
       "      <td>2021.000000</td>\n",
       "    </tr>\n",
       "  </tbody>\n",
       "</table>\n",
       "</div>"
      ],
      "text/plain": [
       "           period_m        s_year        c_year\n",
       "count  32522.000000  32522.000000  32522.000000\n",
       "mean      17.546402   2018.710411   2020.017404\n",
       "std       12.962896      1.148577      1.063758\n",
       "min        0.000000   2017.000000   2017.000000\n",
       "25%        6.900000   2018.000000   2019.000000\n",
       "50%       14.900000   2019.000000   2020.000000\n",
       "75%       25.800000   2020.000000   2021.000000\n",
       "max       59.900000   2021.000000   2021.000000"
      ]
     },
     "execution_count": 99,
     "metadata": {},
     "output_type": "execute_result"
    }
   ],
   "source": [
    "ccl_ann.describe()"
   ]
  },
  {
   "cell_type": "code",
   "execution_count": 100,
   "metadata": {},
   "outputs": [
    {
     "data": {
      "image/png": "[encoded data removed]",
      "text/plain": [
       "<Figure size 1080x576 with 6 Axes>"
      ]
     },
     "metadata": {},
     "output_type": "display_data"
    }
   ],
   "source": [
    "plt.rcParams['font.family'] = 'NanumBarunGothic'\n",
    "cols = ['age_gr','gender','channel','period_m', 's_year', 'c_year']\n",
    "title = ['이용자 연령대', '이용자 성별', '구독신청 경로', '구독 개월 수', '구독 신청 연도', '구독 취소 연도']\n",
    "\n",
    "plt.figure(figsize=(15,8))\n",
    "\n",
    "\n",
    "for i in range(0,6):\n",
    "    plt.subplot(2,3,i+1)\n",
    "    plt.title(title[i], fontsize=15)\n",
    "    plt.hist(x=ccl_ann.loc[:,cols[i]], color='#F9B539')\n",
    "    # y축 천단위 , 표시\n",
    "    current_values = plt.gca().get_yticks()\n",
    "    plt.gca().set_yticklabels(['{:,.0f}'.format(x) for x in current_values]);\n",
    "\n",
    "plt.tight_layout()"
   ]
  },
  {
   "cell_type": "code",
   "execution_count": 101,
   "metadata": {},
   "outputs": [
    {
     "data": {
      "text/plain": [
       "<AxesSubplot:xlabel='period_m'>"
      ]
     },
     "execution_count": 101,
     "metadata": {},
     "output_type": "execute_result"
    },
    {
     "data": {
      "image/png": "[encoded data removed]",
      "text/plain": [
       "<Figure size 432x288 with 1 Axes>"
      ]
     },
     "metadata": {},
     "output_type": "display_data"
    }
   ],
   "source": [
    "sns.boxplot(data=ccl_ann, x='period_m', color='#F9B539')"
   ]
  },
  {
   "cell_type": "markdown",
   "metadata": {},
   "source": [
    "클러스터링"
   ]
  },
  {
   "cell_type": "code",
   "execution_count": 102,
   "metadata": {},
   "outputs": [
    {
     "data": {
      "text/html": [
       "<div>\n",
       "<style scoped>\n",
       "    .dataframe tbody tr th:only-of-type {\n",
       "        vertical-align: middle;\n",
       "    }\n",
       "\n",
       "    .dataframe tbody tr th {\n",
       "        vertical-align: top;\n",
       "    }\n",
       "\n",
       "    .dataframe thead th {\n",
       "        text-align: right;\n",
       "    }\n",
       "</style>\n",
       "<table border=\"1\" class=\"dataframe\">\n",
       "  <thead>\n",
       "    <tr style=\"text-align: right;\">\n",
       "      <th></th>\n",
       "      <th>id</th>\n",
       "      <th>age_gr</th>\n",
       "      <th>gender</th>\n",
       "      <th>channel</th>\n",
       "      <th>signup_date_time</th>\n",
       "      <th>cancel_date_time</th>\n",
       "      <th>max_date</th>\n",
       "      <th>s_date</th>\n",
       "      <th>c_date</th>\n",
       "      <th>period_m</th>\n",
       "      <th>s_year</th>\n",
       "      <th>c_year</th>\n",
       "    </tr>\n",
       "  </thead>\n",
       "  <tbody>\n",
       "    <tr>\n",
       "      <th>1</th>\n",
       "      <td>2449</td>\n",
       "      <td>60</td>\n",
       "      <td>male</td>\n",
       "      <td>phone</td>\n",
       "      <td>2017-01-01 11:39:29</td>\n",
       "      <td>2021-09-05 10:00:02</td>\n",
       "      <td>2021-09-05 10:00:02</td>\n",
       "      <td>2017-01-01</td>\n",
       "      <td>2021-09-05</td>\n",
       "      <td>56.2</td>\n",
       "      <td>2017</td>\n",
       "      <td>2021</td>\n",
       "    </tr>\n",
       "    <tr>\n",
       "      <th>2</th>\n",
       "      <td>2450</td>\n",
       "      <td>50</td>\n",
       "      <td>female</td>\n",
       "      <td>phone</td>\n",
       "      <td>2017-01-01 11:42:00</td>\n",
       "      <td>2019-01-13 16:24:55</td>\n",
       "      <td>2019-01-13 16:24:55</td>\n",
       "      <td>2017-01-01</td>\n",
       "      <td>2019-01-13</td>\n",
       "      <td>24.4</td>\n",
       "      <td>2017</td>\n",
       "      <td>2019</td>\n",
       "    </tr>\n",
       "    <tr>\n",
       "      <th>4</th>\n",
       "      <td>2452</td>\n",
       "      <td>70</td>\n",
       "      <td>male</td>\n",
       "      <td>phone</td>\n",
       "      <td>2017-01-01 13:57:30</td>\n",
       "      <td>2021-06-28 18:06:01</td>\n",
       "      <td>2021-06-28 18:06:01</td>\n",
       "      <td>2017-01-01</td>\n",
       "      <td>2021-06-28</td>\n",
       "      <td>53.9</td>\n",
       "      <td>2017</td>\n",
       "      <td>2021</td>\n",
       "    </tr>\n",
       "    <tr>\n",
       "      <th>6</th>\n",
       "      <td>2454</td>\n",
       "      <td>50</td>\n",
       "      <td>male</td>\n",
       "      <td>phone</td>\n",
       "      <td>2017-01-01 15:35:03</td>\n",
       "      <td>2021-06-01 17:09:40</td>\n",
       "      <td>2021-06-01 17:09:40</td>\n",
       "      <td>2017-01-01</td>\n",
       "      <td>2021-06-01</td>\n",
       "      <td>53.0</td>\n",
       "      <td>2017</td>\n",
       "      <td>2021</td>\n",
       "    </tr>\n",
       "    <tr>\n",
       "      <th>8</th>\n",
       "      <td>2456</td>\n",
       "      <td>70</td>\n",
       "      <td>female</td>\n",
       "      <td>phone</td>\n",
       "      <td>2017-01-02 09:21:04</td>\n",
       "      <td>2017-06-08 15:57:45</td>\n",
       "      <td>2017-06-08 15:57:45</td>\n",
       "      <td>2017-01-02</td>\n",
       "      <td>2017-06-08</td>\n",
       "      <td>5.2</td>\n",
       "      <td>2017</td>\n",
       "      <td>2017</td>\n",
       "    </tr>\n",
       "  </tbody>\n",
       "</table>\n",
       "</div>"
      ],
      "text/plain": [
       "     id age_gr  gender channel     signup_date_time     cancel_date_time  \\\n",
       "1  2449     60    male   phone  2017-01-01 11:39:29  2021-09-05 10:00:02   \n",
       "2  2450     50  female   phone  2017-01-01 11:42:00  2019-01-13 16:24:55   \n",
       "4  2452     70    male   phone  2017-01-01 13:57:30  2021-06-28 18:06:01   \n",
       "6  2454     50    male   phone  2017-01-01 15:35:03  2021-06-01 17:09:40   \n",
       "8  2456     70  female   phone  2017-01-02 09:21:04  2017-06-08 15:57:45   \n",
       "\n",
       "              max_date     s_date     c_date  period_m  s_year  c_year  \n",
       "1  2021-09-05 10:00:02 2017-01-01 2021-09-05      56.2    2017    2021  \n",
       "2  2019-01-13 16:24:55 2017-01-01 2019-01-13      24.4    2017    2019  \n",
       "4  2021-06-28 18:06:01 2017-01-01 2021-06-28      53.9    2017    2021  \n",
       "6  2021-06-01 17:09:40 2017-01-01 2021-06-01      53.0    2017    2021  \n",
       "8  2017-06-08 15:57:45 2017-01-02 2017-06-08       5.2    2017    2017  "
      ]
     },
     "execution_count": 102,
     "metadata": {},
     "output_type": "execute_result"
    }
   ],
   "source": [
    "ccl_ann.head()"
   ]
  },
  {
   "cell_type": "code",
   "execution_count": 103,
   "metadata": {},
   "outputs": [
    {
     "data": {
      "image/png": "[encoded data removed]",
      "text/plain": [
       "<Figure size 432x288 with 2 Axes>"
      ]
     },
     "metadata": {},
     "output_type": "display_data"
    }
   ],
   "source": [
    "plt.rcParams['font.family'] = 'NanumBarunGothic'\n",
    "sns.heatmap(ccl_ann.corr(), annot=True, annot_kws={'size':15}, cmap='YlOrRd', linewidth=0.3)\n",
    "plt.show()"
   ]
  },
  {
   "cell_type": "markdown",
   "metadata": {},
   "source": [
    "수치형만 상관관계 분석 → 무의미"
   ]
  },
  {
   "cell_type": "code",
   "execution_count": 104,
   "metadata": {},
   "outputs": [
    {
     "data": {
      "text/plain": [
       "[13390, 19132]"
      ]
     },
     "execution_count": 104,
     "metadata": {},
     "output_type": "execute_result"
    }
   ],
   "source": [
    "# 구독기간에 따라 3개 유형으로 구분\n",
    "short = ccl_ann.query('period_m<12') # 1년 이내에 구독 해지\n",
    "#middle = ccl_ann.query('(period_m>=12) and (period_m<24)') \n",
    "long = ccl_ann.query('period_m>=12') # 재구독\n",
    "\n",
    "lst_count = [short.shape[0], long.shape[0]] # middle.shape[0],\n",
    "lst_count"
   ]
  },
  {
   "cell_type": "code",
   "execution_count": 105,
   "metadata": {},
   "outputs": [
    {
     "data": {
      "text/html": [
       "<div>\n",
       "<style scoped>\n",
       "    .dataframe tbody tr th:only-of-type {\n",
       "        vertical-align: middle;\n",
       "    }\n",
       "\n",
       "    .dataframe tbody tr th {\n",
       "        vertical-align: top;\n",
       "    }\n",
       "\n",
       "    .dataframe thead th {\n",
       "        text-align: right;\n",
       "    }\n",
       "</style>\n",
       "<table border=\"1\" class=\"dataframe\">\n",
       "  <thead>\n",
       "    <tr style=\"text-align: right;\">\n",
       "      <th></th>\n",
       "      <th>period_m</th>\n",
       "      <th>s_year</th>\n",
       "      <th>c_year</th>\n",
       "    </tr>\n",
       "  </thead>\n",
       "  <tbody>\n",
       "    <tr>\n",
       "      <th>count</th>\n",
       "      <td>19132.000000</td>\n",
       "      <td>19132.000000</td>\n",
       "      <td>19132.000000</td>\n",
       "    </tr>\n",
       "    <tr>\n",
       "      <th>mean</th>\n",
       "      <td>25.778120</td>\n",
       "      <td>2018.341888</td>\n",
       "      <td>2020.306032</td>\n",
       "    </tr>\n",
       "    <tr>\n",
       "      <th>std</th>\n",
       "      <td>10.625456</td>\n",
       "      <td>0.981633</td>\n",
       "      <td>0.858232</td>\n",
       "    </tr>\n",
       "    <tr>\n",
       "      <th>min</th>\n",
       "      <td>12.000000</td>\n",
       "      <td>2017.000000</td>\n",
       "      <td>2018.000000</td>\n",
       "    </tr>\n",
       "    <tr>\n",
       "      <th>25%</th>\n",
       "      <td>17.100000</td>\n",
       "      <td>2018.000000</td>\n",
       "      <td>2020.000000</td>\n",
       "    </tr>\n",
       "    <tr>\n",
       "      <th>50%</th>\n",
       "      <td>23.500000</td>\n",
       "      <td>2018.000000</td>\n",
       "      <td>2021.000000</td>\n",
       "    </tr>\n",
       "    <tr>\n",
       "      <th>75%</th>\n",
       "      <td>32.200000</td>\n",
       "      <td>2019.000000</td>\n",
       "      <td>2021.000000</td>\n",
       "    </tr>\n",
       "    <tr>\n",
       "      <th>max</th>\n",
       "      <td>59.900000</td>\n",
       "      <td>2020.000000</td>\n",
       "      <td>2021.000000</td>\n",
       "    </tr>\n",
       "  </tbody>\n",
       "</table>\n",
       "</div>"
      ],
      "text/plain": [
       "           period_m        s_year        c_year\n",
       "count  19132.000000  19132.000000  19132.000000\n",
       "mean      25.778120   2018.341888   2020.306032\n",
       "std       10.625456      0.981633      0.858232\n",
       "min       12.000000   2017.000000   2018.000000\n",
       "25%       17.100000   2018.000000   2020.000000\n",
       "50%       23.500000   2018.000000   2021.000000\n",
       "75%       32.200000   2019.000000   2021.000000\n",
       "max       59.900000   2020.000000   2021.000000"
      ]
     },
     "execution_count": 105,
     "metadata": {},
     "output_type": "execute_result"
    }
   ],
   "source": [
    "long.describe()"
   ]
  },
  {
   "cell_type": "markdown",
   "metadata": {},
   "source": [
    "재정 자문 관련 콘텐츠 제공하므로 실용재에 가까움\n",
    "연간 구독한 후 1년 이내에 구독취소를 했다면 정보에 만족도가 떨어졌거나 유익하지 않다고 느꼈을 가능성이 큼. 해지 막기 위해 노력해도 효과 없을 듯"
   ]
  },
  {
   "cell_type": "markdown",
   "metadata": {},
   "source": [
    "연령대와 채널은 이용자 유형 간 큰 차이 없음. 전체 데이터의 채널 구성비와 유사"
   ]
  },
  {
   "cell_type": "code",
   "execution_count": 106,
   "metadata": {},
   "outputs": [
    {
     "data": {
      "text/html": [
       "<div>\n",
       "<style scoped>\n",
       "    .dataframe tbody tr th:only-of-type {\n",
       "        vertical-align: middle;\n",
       "    }\n",
       "\n",
       "    .dataframe tbody tr th {\n",
       "        vertical-align: top;\n",
       "    }\n",
       "\n",
       "    .dataframe thead th {\n",
       "        text-align: right;\n",
       "    }\n",
       "</style>\n",
       "<table border=\"1\" class=\"dataframe\">\n",
       "  <thead>\n",
       "    <tr style=\"text-align: right;\">\n",
       "      <th></th>\n",
       "      <th>category</th>\n",
       "      <th>avg_period</th>\n",
       "      <th>cancel_after</th>\n",
       "    </tr>\n",
       "  </thead>\n",
       "  <tbody>\n",
       "    <tr>\n",
       "      <th>0</th>\n",
       "      <td>new</td>\n",
       "      <td>5.78</td>\n",
       "      <td>5.78</td>\n",
       "    </tr>\n",
       "    <tr>\n",
       "      <th>1</th>\n",
       "      <td>re1</td>\n",
       "      <td>17.50</td>\n",
       "      <td>5.50</td>\n",
       "    </tr>\n",
       "    <tr>\n",
       "      <th>2</th>\n",
       "      <td>re2</td>\n",
       "      <td>29.23</td>\n",
       "      <td>5.23</td>\n",
       "    </tr>\n",
       "    <tr>\n",
       "      <th>3</th>\n",
       "      <td>re3</td>\n",
       "      <td>41.05</td>\n",
       "      <td>5.05</td>\n",
       "    </tr>\n",
       "    <tr>\n",
       "      <th>4</th>\n",
       "      <td>re4</td>\n",
       "      <td>52.34</td>\n",
       "      <td>4.34</td>\n",
       "    </tr>\n",
       "  </tbody>\n",
       "</table>\n",
       "</div>"
      ],
      "text/plain": [
       "  category  avg_period  cancel_after\n",
       "0      new        5.78          5.78\n",
       "1      re1       17.50          5.50\n",
       "2      re2       29.23          5.23\n",
       "3      re3       41.05          5.05\n",
       "4      re4       52.34          4.34"
      ]
     },
     "execution_count": 106,
     "metadata": {},
     "output_type": "execute_result"
    }
   ],
   "source": [
    "# 구독기간 1년 단위로\n",
    "new = ccl_ann.query('period_m<12') # 1년 이내에 구독 해지\n",
    "re1 = ccl_ann.query('(period_m>=12) and (period_m<24)')\n",
    "re2 = ccl_ann.query('(period_m>=24) and (period_m<36)')\n",
    "re3 = ccl_ann.query('(period_m>=36) and (period_m<48)')\n",
    "re4 = ccl_ann.query('(period_m>=48) and (period_m<60)')\n",
    "\n",
    "re_sub = pd.DataFrame({'category':['new','re1','re2','re3','re4'],\n",
    "    'avg_period':[new['period_m'].mean().round(2),\n",
    "                re1['period_m'].mean().round(2),\n",
    "                re2['period_m'].mean().round(2),\n",
    "                re3['period_m'].mean().round(2),\n",
    "                re4['period_m'].mean().round(2)]})\n",
    "re_sub['cancel_after'] = (re_sub['avg_period']%12).round(2)\n",
    "re_sub"
   ]
  },
  {
   "cell_type": "code",
   "execution_count": 243,
   "metadata": {},
   "outputs": [
    {
     "data": {
      "text/plain": [
       "(13390, 9882, 5845, 2550, 855)"
      ]
     },
     "execution_count": 243,
     "metadata": {},
     "output_type": "execute_result"
    }
   ],
   "source": [
    "len(new), len(re1), len(re2), len(re3), len(re4)"
   ]
  },
  {
   "cell_type": "code",
   "execution_count": 107,
   "metadata": {},
   "outputs": [
    {
     "name": "stdout",
     "output_type": "stream",
     "text": [
      "5.18\n"
     ]
    }
   ],
   "source": [
    "print(re_sub['cancel_after'].mean().round(2))"
   ]
  },
  {
   "cell_type": "markdown",
   "metadata": {},
   "source": [
    "재구독 후 4~5개월째에 구독 취소 → 1~2개월 전에 해지방어 하자!"
   ]
  },
  {
   "cell_type": "markdown",
   "metadata": {},
   "source": [
    "* * *"
   ]
  },
  {
   "cell_type": "markdown",
   "metadata": {},
   "source": [
    "### 모델링 위한 전처리\n",
    "- 연간 구독자 대상"
   ]
  },
  {
   "cell_type": "code",
   "execution_count": 108,
   "metadata": {},
   "outputs": [
    {
     "name": "stdout",
     "output_type": "stream",
     "text": [
      "(139347, 14)\n"
     ]
    },
    {
     "data": {
      "text/html": [
       "<div>\n",
       "<style scoped>\n",
       "    .dataframe tbody tr th:only-of-type {\n",
       "        vertical-align: middle;\n",
       "    }\n",
       "\n",
       "    .dataframe tbody tr th {\n",
       "        vertical-align: top;\n",
       "    }\n",
       "\n",
       "    .dataframe thead th {\n",
       "        text-align: right;\n",
       "    }\n",
       "</style>\n",
       "<table border=\"1\" class=\"dataframe\">\n",
       "  <thead>\n",
       "    <tr style=\"text-align: right;\">\n",
       "      <th></th>\n",
       "      <th>id</th>\n",
       "      <th>age_gr</th>\n",
       "      <th>gender</th>\n",
       "      <th>product</th>\n",
       "      <th>channel</th>\n",
       "      <th>signup_date_time</th>\n",
       "      <th>cancel_date_time</th>\n",
       "      <th>cancel</th>\n",
       "      <th>max_date</th>\n",
       "      <th>s_date</th>\n",
       "      <th>c_date</th>\n",
       "      <th>period_m</th>\n",
       "      <th>s_year</th>\n",
       "      <th>c_year</th>\n",
       "    </tr>\n",
       "  </thead>\n",
       "  <tbody>\n",
       "    <tr>\n",
       "      <th>0</th>\n",
       "      <td>2448</td>\n",
       "      <td>70</td>\n",
       "      <td>female</td>\n",
       "      <td>annual</td>\n",
       "      <td>phone</td>\n",
       "      <td>2017-01-01 10:35:09</td>\n",
       "      <td>0</td>\n",
       "      <td>0</td>\n",
       "      <td>2021-12-31</td>\n",
       "      <td>2017-01-01</td>\n",
       "      <td>2021-12-31</td>\n",
       "      <td>60.0</td>\n",
       "      <td>2017</td>\n",
       "      <td>2021</td>\n",
       "    </tr>\n",
       "    <tr>\n",
       "      <th>1</th>\n",
       "      <td>2449</td>\n",
       "      <td>60</td>\n",
       "      <td>male</td>\n",
       "      <td>annual</td>\n",
       "      <td>phone</td>\n",
       "      <td>2017-01-01 11:39:29</td>\n",
       "      <td>2021-09-05 10:00:02</td>\n",
       "      <td>1</td>\n",
       "      <td>2021-09-05 10:00:02</td>\n",
       "      <td>2017-01-01</td>\n",
       "      <td>2021-09-05</td>\n",
       "      <td>56.2</td>\n",
       "      <td>2017</td>\n",
       "      <td>2021</td>\n",
       "    </tr>\n",
       "    <tr>\n",
       "      <th>2</th>\n",
       "      <td>2450</td>\n",
       "      <td>50</td>\n",
       "      <td>female</td>\n",
       "      <td>annual</td>\n",
       "      <td>phone</td>\n",
       "      <td>2017-01-01 11:42:00</td>\n",
       "      <td>2019-01-13 16:24:55</td>\n",
       "      <td>1</td>\n",
       "      <td>2019-01-13 16:24:55</td>\n",
       "      <td>2017-01-01</td>\n",
       "      <td>2019-01-13</td>\n",
       "      <td>24.4</td>\n",
       "      <td>2017</td>\n",
       "      <td>2019</td>\n",
       "    </tr>\n",
       "    <tr>\n",
       "      <th>4</th>\n",
       "      <td>2452</td>\n",
       "      <td>70</td>\n",
       "      <td>male</td>\n",
       "      <td>annual</td>\n",
       "      <td>phone</td>\n",
       "      <td>2017-01-01 13:57:30</td>\n",
       "      <td>2021-06-28 18:06:01</td>\n",
       "      <td>1</td>\n",
       "      <td>2021-06-28 18:06:01</td>\n",
       "      <td>2017-01-01</td>\n",
       "      <td>2021-06-28</td>\n",
       "      <td>53.9</td>\n",
       "      <td>2017</td>\n",
       "      <td>2021</td>\n",
       "    </tr>\n",
       "    <tr>\n",
       "      <th>5</th>\n",
       "      <td>2453</td>\n",
       "      <td>50</td>\n",
       "      <td>male</td>\n",
       "      <td>annual</td>\n",
       "      <td>phone</td>\n",
       "      <td>2017-01-01 15:26:14</td>\n",
       "      <td>0</td>\n",
       "      <td>0</td>\n",
       "      <td>2021-12-31</td>\n",
       "      <td>2017-01-01</td>\n",
       "      <td>2021-12-31</td>\n",
       "      <td>60.0</td>\n",
       "      <td>2017</td>\n",
       "      <td>2021</td>\n",
       "    </tr>\n",
       "  </tbody>\n",
       "</table>\n",
       "</div>"
      ],
      "text/plain": [
       "     id age_gr  gender product channel     signup_date_time  \\\n",
       "0  2448     70  female  annual   phone  2017-01-01 10:35:09   \n",
       "1  2449     60    male  annual   phone  2017-01-01 11:39:29   \n",
       "2  2450     50  female  annual   phone  2017-01-01 11:42:00   \n",
       "4  2452     70    male  annual   phone  2017-01-01 13:57:30   \n",
       "5  2453     50    male  annual   phone  2017-01-01 15:26:14   \n",
       "\n",
       "      cancel_date_time  cancel             max_date     s_date     c_date  \\\n",
       "0                    0       0           2021-12-31 2017-01-01 2021-12-31   \n",
       "1  2021-09-05 10:00:02       1  2021-09-05 10:00:02 2017-01-01 2021-09-05   \n",
       "2  2019-01-13 16:24:55       1  2019-01-13 16:24:55 2017-01-01 2019-01-13   \n",
       "4  2021-06-28 18:06:01       1  2021-06-28 18:06:01 2017-01-01 2021-06-28   \n",
       "5                    0       0           2021-12-31 2017-01-01 2021-12-31   \n",
       "\n",
       "   period_m  s_year  c_year  \n",
       "0      60.0    2017    2021  \n",
       "1      56.2    2017    2021  \n",
       "2      24.4    2017    2019  \n",
       "4      53.9    2017    2021  \n",
       "5      60.0    2017    2021  "
      ]
     },
     "execution_count": 108,
     "metadata": {},
     "output_type": "execute_result"
    }
   ],
   "source": [
    "dfm = df[df['product']=='annual']\n",
    "print(dfm.shape)\n",
    "dfm.head()"
   ]
  },
  {
   "cell_type": "code",
   "execution_count": 109,
   "metadata": {},
   "outputs": [
    {
     "data": {
      "text/html": [
       "<div>\n",
       "<style scoped>\n",
       "    .dataframe tbody tr th:only-of-type {\n",
       "        vertical-align: middle;\n",
       "    }\n",
       "\n",
       "    .dataframe tbody tr th {\n",
       "        vertical-align: top;\n",
       "    }\n",
       "\n",
       "    .dataframe thead th {\n",
       "        text-align: right;\n",
       "    }\n",
       "</style>\n",
       "<table border=\"1\" class=\"dataframe\">\n",
       "  <thead>\n",
       "    <tr style=\"text-align: right;\">\n",
       "      <th></th>\n",
       "      <th>age</th>\n",
       "      <th>gender</th>\n",
       "      <th>channel</th>\n",
       "      <th>period</th>\n",
       "      <th>churn</th>\n",
       "    </tr>\n",
       "  </thead>\n",
       "  <tbody>\n",
       "    <tr>\n",
       "      <th>0</th>\n",
       "      <td>70</td>\n",
       "      <td>female</td>\n",
       "      <td>phone</td>\n",
       "      <td>60.0</td>\n",
       "      <td>0</td>\n",
       "    </tr>\n",
       "    <tr>\n",
       "      <th>1</th>\n",
       "      <td>60</td>\n",
       "      <td>male</td>\n",
       "      <td>phone</td>\n",
       "      <td>56.2</td>\n",
       "      <td>0</td>\n",
       "    </tr>\n",
       "    <tr>\n",
       "      <th>2</th>\n",
       "      <td>50</td>\n",
       "      <td>female</td>\n",
       "      <td>phone</td>\n",
       "      <td>24.4</td>\n",
       "      <td>0</td>\n",
       "    </tr>\n",
       "    <tr>\n",
       "      <th>4</th>\n",
       "      <td>70</td>\n",
       "      <td>male</td>\n",
       "      <td>phone</td>\n",
       "      <td>53.9</td>\n",
       "      <td>0</td>\n",
       "    </tr>\n",
       "    <tr>\n",
       "      <th>5</th>\n",
       "      <td>50</td>\n",
       "      <td>male</td>\n",
       "      <td>phone</td>\n",
       "      <td>60.0</td>\n",
       "      <td>0</td>\n",
       "    </tr>\n",
       "  </tbody>\n",
       "</table>\n",
       "</div>"
      ],
      "text/plain": [
       "  age  gender channel  period  churn\n",
       "0  70  female   phone    60.0      0\n",
       "1  60    male   phone    56.2      0\n",
       "2  50  female   phone    24.4      0\n",
       "4  70    male   phone    53.9      0\n",
       "5  50    male   phone    60.0      0"
      ]
     },
     "execution_count": 109,
     "metadata": {},
     "output_type": "execute_result"
    }
   ],
   "source": [
    "# 불필요한 특성 제거\n",
    "dfm=dfm[['age_gr','gender','channel','period_m']]\n",
    "\n",
    "# 컬럼명 정리\n",
    "dfm.columns = ['age','gender','channel','period']\n",
    "# 타겟값 추가\n",
    "lst = []\n",
    "for i in dfm.period:\n",
    "    if (i%12 >=3.18) and (i%12 <=4.18):\n",
    "        lst.append(1)\n",
    "    else:\n",
    "        lst.append(0)\n",
    "dfm['churn'] = lst\n",
    "dfm.head()"
   ]
  },
  {
   "cell_type": "markdown",
   "metadata": {},
   "source": [
    "결측치 없음"
   ]
  },
  {
   "cell_type": "code",
   "execution_count": 111,
   "metadata": {},
   "outputs": [
    {
     "data": {
      "text/plain": [
       "((89181, 5), (22296, 5), (27870, 5))"
      ]
     },
     "execution_count": 111,
     "metadata": {},
     "output_type": "execute_result"
    }
   ],
   "source": [
    "# 훈련/검증/테스트 데이터 구분\n",
    "from sklearn.model_selection import train_test_split\n",
    "\n",
    "train, test = train_test_split(\n",
    "    dfm, train_size=0.80, test_size=0.20, stratify=dfm['churn'], random_state=42)\n",
    "\n",
    "train, val = train_test_split(\n",
    "    train, train_size=0.80, test_size=0.20, random_state=42)\n",
    "\n",
    "train.shape, val.shape, test.shape"
   ]
  },
  {
   "cell_type": "code",
   "execution_count": 112,
   "metadata": {},
   "outputs": [
    {
     "name": "stdout",
     "output_type": "stream",
     "text": [
      "(89181, 4) (89181,) (22296, 4) (22296,) (27870, 4) (27870,)\n"
     ]
    }
   ],
   "source": [
    "target = 'churn'\n",
    "features = dfm.drop(columns=[target]).columns\n",
    "\n",
    "def divide_data(df):\n",
    "    target = 'churn'\n",
    "    features = dfm.drop(columns=[target]).columns\n",
    "    X = df[features]\n",
    "    y = df[target]\n",
    "    return X, y\n",
    "\n",
    "X_train, y_train = divide_data(train)\n",
    "X_val, y_val = divide_data(val)\n",
    "X_test, y_test = divide_data(test)\n",
    "print(X_train.shape, y_train.shape, X_val.shape, y_val.shape, X_test.shape, y_test.shape)\n"
   ]
  },
  {
   "cell_type": "code",
   "execution_count": 195,
   "metadata": {},
   "outputs": [],
   "source": [
    "from category_encoders import OneHotEncoder\n",
    "from category_encoders import OrdinalEncoder\n",
    "from sklearn.preprocessing import StandardScaler\n",
    "from sklearn.linear_model import LogisticRegression\n",
    "from sklearn.metrics import plot_confusion_matrix # 오차행렬 히트맵\n",
    "from sklearn.metrics import confusion_matrix # 오차행렬 생성\n",
    "from sklearn.metrics import classification_report, accuracy_score, recall_score, precision_score, f1_score\n",
    "from sklearn.pipeline import make_pipeline\n",
    "from sklearn.metrics import classification_report\n",
    "from sklearn.ensemble import RandomForestClassifier\n",
    "from xgboost import XGBClassifier\n",
    "from sklearn.model_selection import RandomizedSearchCV\n",
    "from scipy.stats.distributions import uniform"
   ]
  },
  {
   "cell_type": "markdown",
   "metadata": {},
   "source": [
    "0. 기준모델"
   ]
  },
  {
   "cell_type": "code",
   "execution_count": 114,
   "metadata": {},
   "outputs": [
    {
     "name": "stdout",
     "output_type": "stream",
     "text": [
      "training accuracy:  0.92\n"
     ]
    }
   ],
   "source": [
    "# 기준모델 - 최빈값\n",
    "y_base = [y_train.mode()]*len(y_train)\n",
    "\n",
    "# 기준모델 정확도\n",
    "print(\"training accuracy: \", accuracy_score(y_train, y_base).round(2))"
   ]
  },
  {
   "cell_type": "markdown",
   "metadata": {},
   "source": [
    "타겟 비율이 매우 불균형하기 때문에 정확도만 보고 성능 평가하기 어려움. 다른 지표도 함께보되 reall 잘 살펴보자. 해지고객 아니라고 판단했는데 맞을 경우가 치명적임"
   ]
  },
  {
   "cell_type": "code",
   "execution_count": 244,
   "metadata": {},
   "outputs": [
    {
     "data": {
      "text/plain": [
       "0    0.924914\n",
       "1    0.075086\n",
       "Name: churn, dtype: float64"
      ]
     },
     "execution_count": 244,
     "metadata": {},
     "output_type": "execute_result"
    }
   ],
   "source": [
    "dfm['churn'].value_counts(normalize=True)"
   ]
  },
  {
   "cell_type": "markdown",
   "metadata": {},
   "source": [
    "1. 로지스틱회귀"
   ]
  },
  {
   "cell_type": "code",
   "execution_count": 115,
   "metadata": {},
   "outputs": [
    {
     "data": {
      "text/html": [
       "<div>\n",
       "<style scoped>\n",
       "    .dataframe tbody tr th:only-of-type {\n",
       "        vertical-align: middle;\n",
       "    }\n",
       "\n",
       "    .dataframe tbody tr th {\n",
       "        vertical-align: top;\n",
       "    }\n",
       "\n",
       "    .dataframe thead th {\n",
       "        text-align: right;\n",
       "    }\n",
       "</style>\n",
       "<table border=\"1\" class=\"dataframe\">\n",
       "  <thead>\n",
       "    <tr style=\"text-align: right;\">\n",
       "      <th></th>\n",
       "      <th>age</th>\n",
       "      <th>gender</th>\n",
       "      <th>channel</th>\n",
       "      <th>period</th>\n",
       "    </tr>\n",
       "  </thead>\n",
       "  <tbody>\n",
       "    <tr>\n",
       "      <th>137167</th>\n",
       "      <td>60</td>\n",
       "      <td>male</td>\n",
       "      <td>phone</td>\n",
       "      <td>6.3</td>\n",
       "    </tr>\n",
       "    <tr>\n",
       "      <th>64888</th>\n",
       "      <td>50</td>\n",
       "      <td>female</td>\n",
       "      <td>phone</td>\n",
       "      <td>30.9</td>\n",
       "    </tr>\n",
       "    <tr>\n",
       "      <th>162624</th>\n",
       "      <td>60</td>\n",
       "      <td>female</td>\n",
       "      <td>phone</td>\n",
       "      <td>11.4</td>\n",
       "    </tr>\n",
       "    <tr>\n",
       "      <th>154156</th>\n",
       "      <td>40</td>\n",
       "      <td>male</td>\n",
       "      <td>phone</td>\n",
       "      <td>19.6</td>\n",
       "    </tr>\n",
       "    <tr>\n",
       "      <th>17668</th>\n",
       "      <td>70</td>\n",
       "      <td>female</td>\n",
       "      <td>phone</td>\n",
       "      <td>51.0</td>\n",
       "    </tr>\n",
       "  </tbody>\n",
       "</table>\n",
       "</div>"
      ],
      "text/plain": [
       "       age  gender channel  period\n",
       "137167  60    male   phone     6.3\n",
       "64888   50  female   phone    30.9\n",
       "162624  60  female   phone    11.4\n",
       "154156  40    male   phone    19.6\n",
       "17668   70  female   phone    51.0"
      ]
     },
     "execution_count": 115,
     "metadata": {},
     "output_type": "execute_result"
    }
   ],
   "source": [
    "X_train.head()"
   ]
  },
  {
   "cell_type": "code",
   "execution_count": 116,
   "metadata": {},
   "outputs": [
    {
     "name": "stdout",
     "output_type": "stream",
     "text": [
      "<class 'pandas.core.frame.DataFrame'>\n",
      "Int64Index: 89181 entries, 137167 to 116676\n",
      "Data columns (total 4 columns):\n",
      " #   Column   Non-Null Count  Dtype   \n",
      "---  ------   --------------  -----   \n",
      " 0   age      89181 non-null  category\n",
      " 1   gender   89181 non-null  object  \n",
      " 2   channel  89181 non-null  object  \n",
      " 3   period   89181 non-null  float64 \n",
      "dtypes: category(1), float64(1), object(2)\n",
      "memory usage: 2.8+ MB\n"
     ]
    }
   ],
   "source": [
    "X_train.info()"
   ]
  },
  {
   "cell_type": "code",
   "execution_count": 138,
   "metadata": {},
   "outputs": [
    {
     "name": "stdout",
     "output_type": "stream",
     "text": [
      "로지스틱회귀 훈련 정확도:  0.49\n",
      "로지스틱회귀 검증 정확도:  0.5\n",
      "              precision    recall  f1-score   support\n",
      "\n",
      "           0       0.94      0.49      0.64     20652\n",
      "           1       0.08      0.57      0.14      1644\n",
      "\n",
      "    accuracy                           0.50     22296\n",
      "   macro avg       0.51      0.53      0.39     22296\n",
      "weighted avg       0.87      0.50      0.61     22296\n",
      "\n"
     ]
    }
   ],
   "source": [
    "# 수치형 데이터 1개뿐(period)이라 scaling 안함\n",
    "\n",
    "ohe = OneHotEncoder()\n",
    "X_train_ohe = ohe.fit_transform(X_train)\n",
    "X_val_ohe = ohe.transform(X_val)\n",
    "X_test_ohe = ohe.transform(X_test)\n",
    "\n",
    "logistic = LogisticRegression(class_weight='balanced')\n",
    "logistic.fit(X_train_ohe, y_train)\n",
    "y_val_pred_log = logistic.predict(X_val_ohe)\n",
    "print('로지스틱회귀 훈련 정확도: ', logistic.score(X_train_ohe, y_train).round(2))\n",
    "print('로지스틱회귀 검증 정확도: ', accuracy_score(y_val, y_val_pred_log).round(2))\n",
    "print(classification_report(y_val, y_val_pred_log))\n"
   ]
  },
  {
   "cell_type": "code",
   "execution_count": 239,
   "metadata": {},
   "outputs": [
    {
     "data": {
      "text/html": [
       "<div>\n",
       "<style scoped>\n",
       "    .dataframe tbody tr th:only-of-type {\n",
       "        vertical-align: middle;\n",
       "    }\n",
       "\n",
       "    .dataframe tbody tr th {\n",
       "        vertical-align: top;\n",
       "    }\n",
       "\n",
       "    .dataframe thead th {\n",
       "        text-align: right;\n",
       "    }\n",
       "</style>\n",
       "<table border=\"1\" class=\"dataframe\">\n",
       "  <thead>\n",
       "    <tr style=\"text-align: right;\">\n",
       "      <th></th>\n",
       "      <th>name</th>\n",
       "      <th>price</th>\n",
       "      <th>billing_cycle</th>\n",
       "    </tr>\n",
       "    <tr>\n",
       "      <th>product_id</th>\n",
       "      <th></th>\n",
       "      <th></th>\n",
       "      <th></th>\n",
       "    </tr>\n",
       "  </thead>\n",
       "  <tbody>\n",
       "    <tr>\n",
       "      <th>prd_1</th>\n",
       "      <td>annual_subscription</td>\n",
       "      <td>1200</td>\n",
       "      <td>12</td>\n",
       "    </tr>\n",
       "    <tr>\n",
       "      <th>prd_2</th>\n",
       "      <td>monthly_subscription</td>\n",
       "      <td>125</td>\n",
       "      <td>1</td>\n",
       "    </tr>\n",
       "  </tbody>\n",
       "</table>\n",
       "</div>"
      ],
      "text/plain": [
       "                            name  price  billing_cycle\n",
       "product_id                                            \n",
       "prd_1        annual_subscription   1200             12\n",
       "prd_2       monthly_subscription    125              1"
      ]
     },
     "execution_count": 239,
     "metadata": {},
     "output_type": "execute_result"
    }
   ],
   "source": [
    "df_prdt_info"
   ]
  },
  {
   "cell_type": "code",
   "execution_count": 135,
   "metadata": {},
   "outputs": [],
   "source": [
    "# 회귀계수가 양수인 특성 상위 3개\n",
    "# print(pd.Series(logistic.coef_[0], logistic.feature_names_in_).sort_values(ascending=False).head(3))"
   ]
  },
  {
   "cell_type": "markdown",
   "metadata": {},
   "source": [
    "2. random forest"
   ]
  },
  {
   "cell_type": "code",
   "execution_count": 247,
   "metadata": {},
   "outputs": [
    {
     "name": "stdout",
     "output_type": "stream",
     "text": [
      "random forest 훈련 정확도:  0.9764187439028492\n",
      "random forest 검증 정확도:  0.9773950484391819\n",
      "              precision    recall  f1-score   support\n",
      "\n",
      "           0       0.98      1.00      0.99     20652\n",
      "           1       1.00      0.69      0.82      1644\n",
      "\n",
      "    accuracy                           0.98     22296\n",
      "   macro avg       0.99      0.85      0.90     22296\n",
      "weighted avg       0.98      0.98      0.98     22296\n",
      "\n"
     ]
    },
    {
     "data": {
      "image/png": "[encoded data removed]",
      "text/plain": [
       "<Figure size 864x576 with 2 Axes>"
      ]
     },
     "metadata": {},
     "output_type": "display_data"
    }
   ],
   "source": [
    "pipe_rf = make_pipeline(\n",
    "    OrdinalEncoder(),\n",
    "    RandomForestClassifier(\n",
    "        random_state=42, \n",
    "        oob_score=True, \n",
    "        n_jobs=-1, \n",
    "        class_weight='balanced',\n",
    "        max_depth=5\n",
    "        )\n",
    "    )\n",
    "pipe_rf.fit(X_train, y_train)\n",
    "y_val_pred_rf = pipe_rf.predict(X_val)\n",
    "print(\"random forest 훈련 정확도: \", pipe_rf.score(X_train, y_train))\n",
    "print(\"random forest 검증 정확도: \", pipe_rf.score(X_val, y_val))\n",
    "print(classification_report(y_val, y_val_pred_rf))\n",
    "\n",
    "fig, ax = plt.subplots()\n",
    "pcm = plot_confusion_matrix(pipe_rf, X_val, y_val,\n",
    "                            cmap=plt.cm.YlOrBr,\n",
    "                            ax=ax)\n",
    "plt.title(f'Confusion matrix of Random forest, n = {len(y_val)}', fontsize=15)\n",
    "plt.show()"
   ]
  },
  {
   "cell_type": "markdown",
   "metadata": {},
   "source": [
    "3. XBGoost"
   ]
  },
  {
   "cell_type": "code",
   "execution_count": 192,
   "metadata": {},
   "outputs": [
    {
     "name": "stdout",
     "output_type": "stream",
     "text": [
      "xgboost 훈련 정확도 0.8397528621567374\n",
      "xgboost 검증 정확도 0.8404646573376391\n",
      "              precision    recall  f1-score   support\n",
      "\n",
      "           0       1.00      0.83      0.91     20652\n",
      "           1       0.32      1.00      0.48      1644\n",
      "\n",
      "    accuracy                           0.84     22296\n",
      "   macro avg       0.66      0.91      0.69     22296\n",
      "weighted avg       0.95      0.84      0.87     22296\n",
      "\n"
     ]
    },
    {
     "data": {
      "image/png": "[encoded data removed]",
      "text/plain": [
       "<Figure size 432x288 with 2 Axes>"
      ]
     },
     "metadata": {},
     "output_type": "display_data"
    }
   ],
   "source": [
    "pipe_xgb = make_pipeline(\n",
    "        OrdinalEncoder(),\n",
    "        XGBClassifier(\n",
    "                booster='gbtree', # dart보다 성능 좋았음\n",
    "                objective='binary:logistic',\n",
    "                eval_metric=\"error\",  # error = 1 - accuracy 지표를 사용해 평가합니다.\n",
    "                random_state=42,\n",
    "                n_jobs=-1,\n",
    "                max_depth=2,\n",
    "                learning_rate=0.05,\n",
    "                scale_pos_weight = (y_val == 0).sum() / (y_val == 1).sum(),\n",
    "                colsample_bytree=0.2, # 컬럼 중 일부 샘플링해서 학습, 작을수록 과적합 감소\n",
    "                subsample=0.2, # 데이터 중 일부 샘플링해서 학습, 낮을수록 과적합 감소\n",
    "                min_child_weight=32,# 관측치에 대한 가중치 합의 최소\n",
    "                reg_lambda=3, # 클수록 과적합 감소\n",
    "                gamma=2\n",
    "                )\n",
    "        )\n",
    "\n",
    "# early stopping 설정\n",
    "# watchlist = [(X_train, y_train), (X_val, y_val)]\n",
    "# pipe_xgb.fit(X_train, y_train, eval_set=watchlist, early_stopping_rounds=50)\n",
    "\n",
    "pipe_xgb.fit(X_train, y_train)\n",
    "y_val_pred_xgb = pipe_xgb.predict(X_val)\n",
    "\n",
    "print(\"xgboost 훈련 정확도\", pipe_xgb.score(X_train, y_train))\n",
    "print(\"xgboost 검증 정확도\", pipe_xgb.score(X_val, y_val))\n",
    "print(classification_report(y_val, y_val_pred_xgb))\n",
    "\n",
    "fig, ax = plt.subplots()\n",
    "pcm = plot_confusion_matrix(pipe_xgb, X_val, y_val,\n",
    "                            cmap=plt.cm.YlOrBr,\n",
    "                            ax=ax)\n",
    "plt.title(f'Confusion matrix of XGBoost, n = {len(y_val)}', fontsize=15)\n",
    "plt.show()"
   ]
  },
  {
   "cell_type": "markdown",
   "metadata": {},
   "source": [
    "과적합이 적은 random forest 모델 선정"
   ]
  },
  {
   "cell_type": "markdown",
   "metadata": {},
   "source": [
    "* * *\n",
    "### 성능개선\n",
    "하이퍼파라미터 튜닝\n"
   ]
  },
  {
   "cell_type": "code",
   "execution_count": null,
   "metadata": {},
   "outputs": [],
   "source": [
    "# 기존 모델\n",
    "pipe_rf = make_pipeline(\n",
    "    OrdinalEncoder(),\n",
    "    RandomForestClassifier(\n",
    "        random_state=42, \n",
    "        oob_score=True, \n",
    "        n_jobs=-1, \n",
    "        class_weight='balanced',\n",
    "        )\n",
    "    )"
   ]
  },
  {
   "cell_type": "code",
   "execution_count": 202,
   "metadata": {},
   "outputs": [
    {
     "name": "stdout",
     "output_type": "stream",
     "text": [
      "최적 파라미터: {'randomforestclassifier__min_samples_split': 4, 'randomforestclassifier__min_samples_leaf': 4, 'randomforestclassifier__max_depth': 7, 'randomforestclassifier__criterion': 'gini'}\n",
      "f1: 0.9006795951896566\n"
     ]
    }
   ],
   "source": [
    "# randomized search CV\n",
    "pipe_rf = make_pipeline(\n",
    "    OrdinalEncoder(),\n",
    "    RandomForestClassifier(\n",
    "        random_state=42, \n",
    "        oob_score=True, \n",
    "        n_jobs=2, \n",
    "        class_weight='balanced',\n",
    "        )\n",
    "    )\n",
    "\n",
    "params = {\n",
    "    'randomforestclassifier__criterion' : ['gini', 'entropy'],\n",
    "    'randomforestclassifier__max_depth': [3,4,5,6,7],\n",
    "    'randomforestclassifier__min_samples_split' : [4,8,12,16],\n",
    "    'randomforestclassifier__min_samples_leaf' : [2,3,4]\n",
    "\n",
    "}\n",
    "\n",
    "clf = RandomizedSearchCV(\n",
    "        pipe_rf,\n",
    "        param_distributions=params,\n",
    "        scoring='f1',\n",
    "        n_iter=50, cv=5, verbose=0, random_state=42\n",
    "    )\n",
    "\n",
    "\n",
    "clf.fit(X_train, y_train)\n",
    "print(\"최적 파라미터:\", clf.best_params_)\n",
    "print(\"f1:\", clf.best_score_)"
   ]
  },
  {
   "cell_type": "code",
   "execution_count": 213,
   "metadata": {},
   "outputs": [
    {
     "name": "stdout",
     "output_type": "stream",
     "text": [
      "random forest 훈련 정확도:  0.9863199560444489\n",
      "random forest 검증 정확도:  0.9863652673125224\n",
      "              precision    recall  f1-score   support\n",
      "\n",
      "           0       0.99      1.00      0.99     20652\n",
      "           1       1.00      0.82      0.90      1644\n",
      "\n",
      "    accuracy                           0.99     22296\n",
      "   macro avg       0.99      0.91      0.95     22296\n",
      "weighted avg       0.99      0.99      0.99     22296\n",
      "\n",
      "              precision    recall  f1-score   support\n",
      "\n",
      "           0       0.98      1.00      0.99     25777\n",
      "           1       1.00      0.80      0.89      2093\n",
      "\n",
      "    accuracy                           0.99     27870\n",
      "   macro avg       0.99      0.90      0.94     27870\n",
      "weighted avg       0.99      0.99      0.98     27870\n",
      "\n"
     ]
    }
   ],
   "source": [
    "best_rf = clf.best_estimator_\n",
    "best_rf.fit(X_train, y_train)\n",
    "y_pred_val = best_rf.predict(X_val)\n",
    "y_pred_test = best_rf.predict(X_test)\n",
    "print(\"random forest 훈련 정확도: \", best_rf.score(X_train, y_train))\n",
    "print(\"random forest 검증 정확도: \", best_rf.score(X_val, y_val))\n",
    "print(classification_report(y_val, y_pred_val))\n",
    "print(classification_report(y_test, y_pred_test))"
   ]
  },
  {
   "cell_type": "code",
   "execution_count": 217,
   "metadata": {},
   "outputs": [
    {
     "data": {
      "text/plain": [
       "112521    0\n",
       "59540     0\n",
       "102548    0\n",
       "189502    0\n",
       "113444    0\n",
       "         ..\n",
       "10519     0\n",
       "56764     0\n",
       "156302    1\n",
       "160651    0\n",
       "30435     0\n",
       "Name: churn, Length: 27870, dtype: int64"
      ]
     },
     "execution_count": 217,
     "metadata": {},
     "output_type": "execute_result"
    }
   ],
   "source": [
    "y_test"
   ]
  },
  {
   "cell_type": "code",
   "execution_count": 246,
   "metadata": {},
   "outputs": [
    {
     "data": {
      "image/png": "[encoded data removed]",
      "text/plain": [
       "<Figure size 864x576 with 2 Axes>"
      ]
     },
     "metadata": {},
     "output_type": "display_data"
    }
   ],
   "source": [
    "fig, ax = plt.subplots()\n",
    "pcm = plot_confusion_matrix(best_rf, X_test, y_test,\n",
    "                            cmap=plt.cm.YlOrBr,\n",
    "                            ax=ax)\n",
    "plt.title(f'Confusion matrix of Random forest, n = {len(y_test)}', fontsize=15)\n",
    "plt.show()"
   ]
  },
  {
   "cell_type": "code",
   "execution_count": 245,
   "metadata": {},
   "outputs": [
    {
     "data": {
      "image/png": "[encoded data removed]",
      "text/plain": [
       "<Figure size 864x576 with 2 Axes>"
      ]
     },
     "metadata": {},
     "output_type": "display_data"
    }
   ],
   "source": [
    "fig, ax = plt.subplots()\n",
    "pcm = plot_confusion_matrix(best_rf, X_val, y_val,\n",
    "                            cmap=plt.cm.YlOrBr,\n",
    "                            ax=ax)\n",
    "plt.title(f'Confusion matrix of Rondom forest, n = {len(y_val)}', fontsize=15)\n",
    "plt.show()"
   ]
  },
  {
   "cell_type": "markdown",
   "metadata": {},
   "source": [
    "모델 해석 - 순열중요도"
   ]
  },
  {
   "cell_type": "code",
   "execution_count": 229,
   "metadata": {},
   "outputs": [
    {
     "data": {
      "text/plain": [
       "Text(0.5, 1.0, 'Permution Importance')"
      ]
     },
     "execution_count": 229,
     "metadata": {},
     "output_type": "execute_result"
    },
    {
     "data": {
      "image/png": "[encoded data removed]",
      "text/plain": [
       "<Figure size 432x288 with 1 Axes>"
      ]
     },
     "metadata": {},
     "output_type": "display_data"
    }
   ],
   "source": [
    "from eli5.sklearn import PermutationImportance\n",
    "permuter = PermutationImportance(\n",
    "    best_rf.named_steps['randomforestclassifier'],\n",
    "    scoring='roc_auc',\n",
    "    n_iter=5,\n",
    "    random_state=42,\n",
    ")\n",
    "\n",
    "X_val_preprocessed = best_rf[0].transform(X_val) # rf[0] : OrdinalEncoder\n",
    "permuter.fit(X_val_preprocessed, y_val) # score 재계산\n",
    "\n",
    "feature_names = X_test.columns.tolist()\n",
    "pi = pd.Series(permuter.feature_importances_, feature_names).sort_values(ascending=True)\n",
    "pi.tail(10).plot.barh() # 상위 10개\n",
    "plt.title('Permution Importance')"
   ]
  },
  {
   "cell_type": "code",
   "execution_count": 231,
   "metadata": {},
   "outputs": [
    {
     "data": {
      "text/html": [
       "\n",
       "    <style>\n",
       "    table.eli5-weights tr:hover {\n",
       "        filter: brightness(85%);\n",
       "    }\n",
       "</style>\n",
       "\n",
       "\n",
       "\n",
       "    \n",
       "\n",
       "    \n",
       "\n",
       "    \n",
       "\n",
       "    \n",
       "\n",
       "    \n",
       "\n",
       "    \n",
       "\n",
       "\n",
       "    \n",
       "\n",
       "    \n",
       "\n",
       "    \n",
       "\n",
       "    \n",
       "\n",
       "    \n",
       "\n",
       "    \n",
       "\n",
       "\n",
       "    \n",
       "\n",
       "    \n",
       "\n",
       "    \n",
       "\n",
       "    \n",
       "\n",
       "    \n",
       "        <table class=\"eli5-weights eli5-feature-importances\" style=\"border-collapse: collapse; border: none; margin-top: 0em; table-layout: auto;\">\n",
       "    <thead>\n",
       "    <tr style=\"border: none;\">\n",
       "        <th style=\"padding: 0 1em 0 0.5em; text-align: right; border: none;\">Weight</th>\n",
       "        <th style=\"padding: 0 0.5em 0 0.5em; text-align: left; border: none;\">Feature</th>\n",
       "    </tr>\n",
       "    </thead>\n",
       "    <tbody>\n",
       "    \n",
       "        <tr style=\"background-color: hsl(120, 100.00%, 80.00%); border: none;\">\n",
       "            <td style=\"padding: 0 1em 0 0.5em; text-align: right; border: none;\">\n",
       "                0.4882\n",
       "                \n",
       "                    &plusmn; 0.0097\n",
       "                \n",
       "            </td>\n",
       "            <td style=\"padding: 0 0.5em 0 0.5em; text-align: left; border: none;\">\n",
       "                period\n",
       "            </td>\n",
       "        </tr>\n",
       "    \n",
       "        <tr style=\"background-color: hsl(120, 100.00%, 99.92%); border: none;\">\n",
       "            <td style=\"padding: 0 1em 0 0.5em; text-align: right; border: none;\">\n",
       "                0.0002\n",
       "                \n",
       "                    &plusmn; 0.0014\n",
       "                \n",
       "            </td>\n",
       "            <td style=\"padding: 0 0.5em 0 0.5em; text-align: left; border: none;\">\n",
       "                age\n",
       "            </td>\n",
       "        </tr>\n",
       "    \n",
       "        <tr style=\"background-color: hsl(0, 100.00%, 99.93%); border: none;\">\n",
       "            <td style=\"padding: 0 1em 0 0.5em; text-align: right; border: none;\">\n",
       "                -0.0002\n",
       "                \n",
       "                    &plusmn; 0.0003\n",
       "                \n",
       "            </td>\n",
       "            <td style=\"padding: 0 0.5em 0 0.5em; text-align: left; border: none;\">\n",
       "                channel\n",
       "            </td>\n",
       "        </tr>\n",
       "    \n",
       "        <tr style=\"background-color: hsl(0, 100.00%, 99.87%); border: none;\">\n",
       "            <td style=\"padding: 0 1em 0 0.5em; text-align: right; border: none;\">\n",
       "                -0.0004\n",
       "                \n",
       "                    &plusmn; 0.0006\n",
       "                \n",
       "            </td>\n",
       "            <td style=\"padding: 0 0.5em 0 0.5em; text-align: left; border: none;\">\n",
       "                gender\n",
       "            </td>\n",
       "        </tr>\n",
       "    \n",
       "    \n",
       "    </tbody>\n",
       "</table>\n",
       "    \n",
       "\n",
       "    \n",
       "\n",
       "\n",
       "    \n",
       "\n",
       "    \n",
       "\n",
       "    \n",
       "\n",
       "    \n",
       "\n",
       "    \n",
       "\n",
       "    \n",
       "\n",
       "\n",
       "\n"
      ],
      "text/plain": [
       "<IPython.core.display.HTML object>"
      ]
     },
     "execution_count": 231,
     "metadata": {},
     "output_type": "execute_result"
    }
   ],
   "source": [
    "# 특서별 score 확인\n",
    "import eli5\n",
    "eli5.show_weights(\n",
    "    permuter,\n",
    "    top=None, # top n 지정 가능, None일 경우 모든 특성\n",
    "    feature_names=feature_names # list 형식으로 넣어야 함\n",
    ")"
   ]
  },
  {
   "cell_type": "markdown",
   "metadata": {},
   "source": [
    "pdp plot"
   ]
  },
  {
   "cell_type": "code",
   "execution_count": 233,
   "metadata": {},
   "outputs": [
    {
     "data": {
      "text/plain": [
       "(<Figure size 2160x1368 with 2 Axes>,\n",
       " {'title_ax': <AxesSubplot:>, 'pdp_ax': <AxesSubplot:xlabel='period'>})"
      ]
     },
     "execution_count": 233,
     "metadata": {},
     "output_type": "execute_result"
    },
    {
     "data": {
      "image/png": "[encoded data removed]",
      "text/plain": [
       "<Figure size 2160x1368 with 2 Axes>"
      ]
     },
     "metadata": {},
     "output_type": "display_data"
    }
   ],
   "source": [
    "from pdpbox.pdp import pdp_isolate, pdp_plot\n",
    "plt.rcParams['figure.dpi'] = 144 # 이미지 화질 조정\n",
    "\n",
    "target_feature = 'period'\n",
    "\n",
    "isolated = pdp_isolate(\n",
    "    model=best_rf,\n",
    "    dataset=X_test,\n",
    "    model_features=X_test.columns,\n",
    "    feature=target_feature,\n",
    "    grid_type='percentile', # default = 'percentile', or 'equal'\n",
    "    num_grid_points=10 # default = 10\n",
    ")\n",
    "pdp_plot(isolated, feature_name=target_feature)"
   ]
  },
  {
   "cell_type": "code",
   "execution_count": 248,
   "metadata": {},
   "outputs": [
    {
     "data": {
      "text/html": [
       "<div>\n",
       "<style scoped>\n",
       "    .dataframe tbody tr th:only-of-type {\n",
       "        vertical-align: middle;\n",
       "    }\n",
       "\n",
       "    .dataframe tbody tr th {\n",
       "        vertical-align: top;\n",
       "    }\n",
       "\n",
       "    .dataframe thead th {\n",
       "        text-align: right;\n",
       "    }\n",
       "</style>\n",
       "<table border=\"1\" class=\"dataframe\">\n",
       "  <thead>\n",
       "    <tr style=\"text-align: right;\">\n",
       "      <th></th>\n",
       "      <th>age</th>\n",
       "      <th>gender</th>\n",
       "      <th>channel</th>\n",
       "      <th>period</th>\n",
       "      <th>churn</th>\n",
       "    </tr>\n",
       "  </thead>\n",
       "  <tbody>\n",
       "    <tr>\n",
       "      <th>0</th>\n",
       "      <td>70</td>\n",
       "      <td>female</td>\n",
       "      <td>phone</td>\n",
       "      <td>60.0</td>\n",
       "      <td>0</td>\n",
       "    </tr>\n",
       "    <tr>\n",
       "      <th>1</th>\n",
       "      <td>60</td>\n",
       "      <td>male</td>\n",
       "      <td>phone</td>\n",
       "      <td>56.2</td>\n",
       "      <td>0</td>\n",
       "    </tr>\n",
       "    <tr>\n",
       "      <th>2</th>\n",
       "      <td>50</td>\n",
       "      <td>female</td>\n",
       "      <td>phone</td>\n",
       "      <td>24.4</td>\n",
       "      <td>0</td>\n",
       "    </tr>\n",
       "    <tr>\n",
       "      <th>4</th>\n",
       "      <td>70</td>\n",
       "      <td>male</td>\n",
       "      <td>phone</td>\n",
       "      <td>53.9</td>\n",
       "      <td>0</td>\n",
       "    </tr>\n",
       "    <tr>\n",
       "      <th>5</th>\n",
       "      <td>50</td>\n",
       "      <td>male</td>\n",
       "      <td>phone</td>\n",
       "      <td>60.0</td>\n",
       "      <td>0</td>\n",
       "    </tr>\n",
       "  </tbody>\n",
       "</table>\n",
       "</div>"
      ],
      "text/plain": [
       "  age  gender channel  period  churn\n",
       "0  70  female   phone    60.0      0\n",
       "1  60    male   phone    56.2      0\n",
       "2  50  female   phone    24.4      0\n",
       "4  70    male   phone    53.9      0\n",
       "5  50    male   phone    60.0      0"
      ]
     },
     "execution_count": 248,
     "metadata": {},
     "output_type": "execute_result"
    }
   ],
   "source": [
    "dfm.head()"
   ]
  },
  {
   "cell_type": "code",
   "execution_count": 250,
   "metadata": {},
   "outputs": [
    {
     "ename": "IndexError",
     "evalue": "list index out of range",
     "output_type": "error",
     "traceback": [
      "\u001b[1;31m---------------------------------------------------------------------------\u001b[0m",
      "\u001b[1;31mIndexError\u001b[0m                                Traceback (most recent call last)",
      "\u001b[1;32m<ipython-input-250-aa2e317bb2a3>\u001b[0m in \u001b[0;36m<module>\u001b[1;34m\u001b[0m\n\u001b[0;32m      7\u001b[0m     \u001b[0mdataset\u001b[0m\u001b[1;33m=\u001b[0m\u001b[0mX_test\u001b[0m\u001b[1;33m,\u001b[0m\u001b[1;33m\u001b[0m\u001b[1;33m\u001b[0m\u001b[0m\n\u001b[0;32m      8\u001b[0m     \u001b[0mmodel_features\u001b[0m\u001b[1;33m=\u001b[0m\u001b[0mX_test\u001b[0m\u001b[1;33m.\u001b[0m\u001b[0mcolumns\u001b[0m\u001b[1;33m,\u001b[0m\u001b[1;33m\u001b[0m\u001b[1;33m\u001b[0m\u001b[0m\n\u001b[1;32m----> 9\u001b[1;33m     \u001b[0mfeatures\u001b[0m\u001b[1;33m=\u001b[0m\u001b[0mfeatures\u001b[0m\u001b[1;33m\u001b[0m\u001b[1;33m\u001b[0m\u001b[0m\n\u001b[0m\u001b[0;32m     10\u001b[0m )\n\u001b[0;32m     11\u001b[0m \u001b[1;33m\u001b[0m\u001b[0m\n",
      "\u001b[1;32mc:\\Users\\MSI\\anaconda3\\envs\\main\\lib\\site-packages\\pdpbox\\pdp.py\u001b[0m in \u001b[0;36mpdp_interact\u001b[1;34m(model, dataset, model_features, features, num_grid_points, grid_types, percentile_ranges, grid_ranges, cust_grid_points, memory_limit, n_jobs, predict_kwds, data_transformer)\u001b[0m\n\u001b[0;32m    548\u001b[0m     \u001b[1;32mfor\u001b[0m \u001b[0midx\u001b[0m \u001b[1;32min\u001b[0m \u001b[0mrange\u001b[0m\u001b[1;33m(\u001b[0m\u001b[1;36m2\u001b[0m\u001b[1;33m)\u001b[0m\u001b[1;33m:\u001b[0m\u001b[1;33m\u001b[0m\u001b[1;33m\u001b[0m\u001b[0m\n\u001b[0;32m    549\u001b[0m         pdp_isolate_out = pdp_isolate(\n\u001b[1;32m--> 550\u001b[1;33m             \u001b[0mmodel\u001b[0m\u001b[1;33m=\u001b[0m\u001b[0mmodel\u001b[0m\u001b[1;33m,\u001b[0m \u001b[0mdataset\u001b[0m\u001b[1;33m=\u001b[0m\u001b[0m_dataset\u001b[0m\u001b[1;33m,\u001b[0m \u001b[0mmodel_features\u001b[0m\u001b[1;33m=\u001b[0m\u001b[0mmodel_features\u001b[0m\u001b[1;33m,\u001b[0m \u001b[0mfeature\u001b[0m\u001b[1;33m=\u001b[0m\u001b[0mfeatures\u001b[0m\u001b[1;33m[\u001b[0m\u001b[0midx\u001b[0m\u001b[1;33m]\u001b[0m\u001b[1;33m,\u001b[0m\u001b[1;33m\u001b[0m\u001b[1;33m\u001b[0m\u001b[0m\n\u001b[0m\u001b[0;32m    551\u001b[0m             \u001b[0mnum_grid_points\u001b[0m\u001b[1;33m=\u001b[0m\u001b[0mnum_grid_points\u001b[0m\u001b[1;33m[\u001b[0m\u001b[0midx\u001b[0m\u001b[1;33m]\u001b[0m\u001b[1;33m,\u001b[0m \u001b[0mgrid_type\u001b[0m\u001b[1;33m=\u001b[0m\u001b[0mgrid_types\u001b[0m\u001b[1;33m[\u001b[0m\u001b[0midx\u001b[0m\u001b[1;33m]\u001b[0m\u001b[1;33m,\u001b[0m \u001b[0mpercentile_range\u001b[0m\u001b[1;33m=\u001b[0m\u001b[0mpercentile_ranges\u001b[0m\u001b[1;33m[\u001b[0m\u001b[0midx\u001b[0m\u001b[1;33m]\u001b[0m\u001b[1;33m,\u001b[0m\u001b[1;33m\u001b[0m\u001b[1;33m\u001b[0m\u001b[0m\n\u001b[0;32m    552\u001b[0m             \u001b[0mgrid_range\u001b[0m\u001b[1;33m=\u001b[0m\u001b[0mgrid_ranges\u001b[0m\u001b[1;33m[\u001b[0m\u001b[0midx\u001b[0m\u001b[1;33m]\u001b[0m\u001b[1;33m,\u001b[0m \u001b[0mcust_grid_points\u001b[0m\u001b[1;33m=\u001b[0m\u001b[0mcust_grid_points\u001b[0m\u001b[1;33m[\u001b[0m\u001b[0midx\u001b[0m\u001b[1;33m]\u001b[0m\u001b[1;33m,\u001b[0m \u001b[0mmemory_limit\u001b[0m\u001b[1;33m=\u001b[0m\u001b[0mmemory_limit\u001b[0m\u001b[1;33m,\u001b[0m\u001b[1;33m\u001b[0m\u001b[1;33m\u001b[0m\u001b[0m\n",
      "\u001b[1;31mIndexError\u001b[0m: list index out of range"
     ]
    }
   ],
   "source": [
    "from pdpbox.pdp import pdp_interact, pdp_interact_plot\n",
    "\n",
    "features = ['period']\n",
    "\n",
    "interaction = pdp_interact(\n",
    "    model=best_rf, \n",
    "    dataset=X_test,\n",
    "    model_features=X_test.columns, \n",
    "    features=features\n",
    ")\n",
    "\n",
    "pdp_interact_plot(interaction, plot_type='grid', \n",
    "                  feature_names=features);"
   ]
  }
 ],
 "metadata": {
  "kernelspec": {
   "display_name": "Python 3.6.13 ('main')",
   "language": "python",
   "name": "python3"
  },
  "language_info": {
   "codemirror_mode": {
    "name": "ipython",
    "version": 3
   },
   "file_extension": ".py",
   "mimetype": "text/x-python",
   "name": "python",
   "nbconvert_exporter": "python",
   "pygments_lexer": "ipython3",
   "version": "3.6.13"
  },
  "orig_nbformat": 4,
  "vscode": {
   "interpreter": {
    "hash": "e2970c5a819c203c80a621b3cc5d7c5cff42546abe66c7824916edc4248195b5"
   }
  }
 },
 "nbformat": 4,
 "nbformat_minor": 2
}
